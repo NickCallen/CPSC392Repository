{
 "cells": [
  {
   "cell_type": "code",
   "execution_count": 1,
   "metadata": {},
   "outputs": [],
   "source": [
    "import pandas as pd\n",
    "import numpy as np\n",
    "from plotnine import *\n",
    "\n",
    "from sklearn.neighbors import KNeighborsClassifier #K-nearest neighbors \n",
    "from sklearn.tree import DecisionTreeClassifier # Decision Tree\n",
    "from sklearn.linear_model import LogisticRegression # Logistic Regression \n",
    "\n",
    "from sklearn.preprocessing import StandardScaler #Z-score variables\n",
    "from sklearn.model_selection import KFold # k-fold cv\n",
    "from sklearn.metrics import accuracy_score, confusion_matrix\n",
    "from sklearn.metrics import plot_confusion_matrix\n",
    "from sklearn.model_selection import GridSearchCV\n",
    "from sklearn.compose import make_column_transformer\n",
    "from sklearn.pipeline import make_pipeline\n",
    "\n",
    "import warnings\n",
    "warnings.filterwarnings('ignore')"
   ]
  },
  {
   "cell_type": "markdown",
   "metadata": {},
   "source": [
    "# HW2\n",
    "\n",
    "## GENERAL INSTRUCTIONS:\n",
    "\n",
    "- CLEARLY mark where you are answering each question (all questions must be answered in Markdown cells, NOT as comments in code cells)\n",
    "- Show all code necessary for the analysis, but remove superfluous code\n",
    "\n",
    "---\n",
    "\n",
    "Use the [Loan Dataset](https://raw.githubusercontent.com/cmparlettpelleriti/CPSC392ParlettPelleriti/master/Data/HW2.csv) on GitHub to build the classification models described below.\n",
    "\n",
    "## Variable Descriptions:\n",
    "- `age`: age in years of person.\n",
    "- `had_cancer`: 0 if the person has NOT had cancer or has cancer, 1 if they have.\n",
    "- `gender_id`: `Male`, `Female`, `Non-Binary`, or `Survey Choices Do Not Accurately Reflect My Identity`.\n",
    "- `income_in_k`: income in thousands of dollars.\n",
    "- `state`: state person lives in.\n",
    "- `credit_score`: credit score.\n",
    "- `num_credit_sources`: number of sources of credit (includes credit cards, loans, car payments...etc).\n",
    "- `utilization_rate`: the % of a person's total credit they use on average each month. For example if you have 10,000 dollars in available credit, and use 2,000 your utilization rate would be 0.2 (20%).\n",
    "- `gave_loan`: whether or not the person got a loan.\n",
    "\n",
    "## Instructions\n",
    "1. *Build a KNN, Decision Tree, AND Logistic Regression model to predict whether or not someone got a loan (total of 3 models).*\n",
    "    - If a variable/predictor has more than 2 categories, use `get_dummies()` to convert them into dummy variables (don't forget to remove the original column when training!).\n",
    "    - use the KFold() function with 5 folds (use the same KF for-loop to fit all three models, i.e. there should only be one KFold loop where you fit 3 models)\n",
    "    - Z-score your continuous variables only (interval data like age...etc can be counted as continuous)\n",
    "    - For KNN, include only *continuous/interval* columns as predictors. For Decision Tree and Logistic Regression use ALL columns (other than `gave_loan`).\n",
    "    - For KNN, choose K by using grid search.\n",
    "    - For Decision Trees, use grid search to choose max_depth, and check for overfitting.\n",
    "    - Record the Train/Test accuracies, and print out confusion matrices.\n",
    "    \n",
    "    \n",
    "2. *Evaluate Your Models (ANSWER IN MARKDOWN CELL)*\n",
    "    - A) Using accuracy and confusion matrices, **which model did best, how can you tell?**\n",
    "    - B) **Are there differences in how well the three models you made in part 1 do for different gender IDs? (do not make new models, use the models from before)**\n",
    "    - C) **Are your models better at predicting people who got loans, or didn't get loans? How can you tell? What are the possible implications of this**"
   ]
  },
  {
   "cell_type": "markdown",
   "metadata": {},
   "source": [
    "## 1. *Build a KNN, Decision Tree, AND Logistic Regression model to predict whether or not someone got a loan (total of 3 models).*"
   ]
  },
  {
   "cell_type": "code",
   "execution_count": 2,
   "metadata": {},
   "outputs": [
    {
     "data": {
      "text/html": [
       "<div>\n",
       "<style scoped>\n",
       "    .dataframe tbody tr th:only-of-type {\n",
       "        vertical-align: middle;\n",
       "    }\n",
       "\n",
       "    .dataframe tbody tr th {\n",
       "        vertical-align: top;\n",
       "    }\n",
       "\n",
       "    .dataframe thead th {\n",
       "        text-align: right;\n",
       "    }\n",
       "</style>\n",
       "<table border=\"1\" class=\"dataframe\">\n",
       "  <thead>\n",
       "    <tr style=\"text-align: right;\">\n",
       "      <th></th>\n",
       "      <th>age</th>\n",
       "      <th>had_cancer</th>\n",
       "      <th>gender_id</th>\n",
       "      <th>income_in_k</th>\n",
       "      <th>state</th>\n",
       "      <th>credit_score</th>\n",
       "      <th>num_credit_sources</th>\n",
       "      <th>utilization_rate</th>\n",
       "      <th>gave_loan</th>\n",
       "    </tr>\n",
       "  </thead>\n",
       "  <tbody>\n",
       "    <tr>\n",
       "      <th>0</th>\n",
       "      <td>39</td>\n",
       "      <td>0</td>\n",
       "      <td>Female</td>\n",
       "      <td>54</td>\n",
       "      <td>TX</td>\n",
       "      <td>448</td>\n",
       "      <td>4</td>\n",
       "      <td>0.32</td>\n",
       "      <td>0</td>\n",
       "    </tr>\n",
       "    <tr>\n",
       "      <th>1</th>\n",
       "      <td>43</td>\n",
       "      <td>0</td>\n",
       "      <td>Female</td>\n",
       "      <td>66</td>\n",
       "      <td>NJ</td>\n",
       "      <td>399</td>\n",
       "      <td>4</td>\n",
       "      <td>0.35</td>\n",
       "      <td>0</td>\n",
       "    </tr>\n",
       "    <tr>\n",
       "      <th>2</th>\n",
       "      <td>42</td>\n",
       "      <td>0</td>\n",
       "      <td>Male</td>\n",
       "      <td>50</td>\n",
       "      <td>NE</td>\n",
       "      <td>509</td>\n",
       "      <td>8</td>\n",
       "      <td>0.23</td>\n",
       "      <td>0</td>\n",
       "    </tr>\n",
       "    <tr>\n",
       "      <th>3</th>\n",
       "      <td>46</td>\n",
       "      <td>0</td>\n",
       "      <td>Female</td>\n",
       "      <td>79</td>\n",
       "      <td>TX</td>\n",
       "      <td>540</td>\n",
       "      <td>6</td>\n",
       "      <td>0.15</td>\n",
       "      <td>0</td>\n",
       "    </tr>\n",
       "    <tr>\n",
       "      <th>4</th>\n",
       "      <td>43</td>\n",
       "      <td>0</td>\n",
       "      <td>Female</td>\n",
       "      <td>49</td>\n",
       "      <td>NV</td>\n",
       "      <td>485</td>\n",
       "      <td>10</td>\n",
       "      <td>0.20</td>\n",
       "      <td>0</td>\n",
       "    </tr>\n",
       "    <tr>\n",
       "      <th>...</th>\n",
       "      <td>...</td>\n",
       "      <td>...</td>\n",
       "      <td>...</td>\n",
       "      <td>...</td>\n",
       "      <td>...</td>\n",
       "      <td>...</td>\n",
       "      <td>...</td>\n",
       "      <td>...</td>\n",
       "      <td>...</td>\n",
       "    </tr>\n",
       "    <tr>\n",
       "      <th>3995</th>\n",
       "      <td>42</td>\n",
       "      <td>0</td>\n",
       "      <td>Female</td>\n",
       "      <td>59</td>\n",
       "      <td>TX</td>\n",
       "      <td>493</td>\n",
       "      <td>3</td>\n",
       "      <td>0.16</td>\n",
       "      <td>0</td>\n",
       "    </tr>\n",
       "    <tr>\n",
       "      <th>3996</th>\n",
       "      <td>44</td>\n",
       "      <td>0</td>\n",
       "      <td>Male</td>\n",
       "      <td>66</td>\n",
       "      <td>AK</td>\n",
       "      <td>659</td>\n",
       "      <td>11</td>\n",
       "      <td>0.36</td>\n",
       "      <td>1</td>\n",
       "    </tr>\n",
       "    <tr>\n",
       "      <th>3997</th>\n",
       "      <td>42</td>\n",
       "      <td>0</td>\n",
       "      <td>Male</td>\n",
       "      <td>71</td>\n",
       "      <td>OH</td>\n",
       "      <td>630</td>\n",
       "      <td>3</td>\n",
       "      <td>0.61</td>\n",
       "      <td>1</td>\n",
       "    </tr>\n",
       "    <tr>\n",
       "      <th>3998</th>\n",
       "      <td>38</td>\n",
       "      <td>0</td>\n",
       "      <td>Female</td>\n",
       "      <td>62</td>\n",
       "      <td>ID</td>\n",
       "      <td>822</td>\n",
       "      <td>5</td>\n",
       "      <td>0.23</td>\n",
       "      <td>1</td>\n",
       "    </tr>\n",
       "    <tr>\n",
       "      <th>3999</th>\n",
       "      <td>40</td>\n",
       "      <td>0</td>\n",
       "      <td>Male</td>\n",
       "      <td>62</td>\n",
       "      <td>WI</td>\n",
       "      <td>732</td>\n",
       "      <td>4</td>\n",
       "      <td>0.06</td>\n",
       "      <td>0</td>\n",
       "    </tr>\n",
       "  </tbody>\n",
       "</table>\n",
       "<p>4000 rows × 9 columns</p>\n",
       "</div>"
      ],
      "text/plain": [
       "      age  had_cancer gender_id  income_in_k state  credit_score  \\\n",
       "0      39           0    Female           54    TX           448   \n",
       "1      43           0    Female           66    NJ           399   \n",
       "2      42           0      Male           50    NE           509   \n",
       "3      46           0    Female           79    TX           540   \n",
       "4      43           0    Female           49    NV           485   \n",
       "...   ...         ...       ...          ...   ...           ...   \n",
       "3995   42           0    Female           59    TX           493   \n",
       "3996   44           0      Male           66    AK           659   \n",
       "3997   42           0      Male           71    OH           630   \n",
       "3998   38           0    Female           62    ID           822   \n",
       "3999   40           0      Male           62    WI           732   \n",
       "\n",
       "      num_credit_sources  utilization_rate  gave_loan  \n",
       "0                      4              0.32          0  \n",
       "1                      4              0.35          0  \n",
       "2                      8              0.23          0  \n",
       "3                      6              0.15          0  \n",
       "4                     10              0.20          0  \n",
       "...                  ...               ...        ...  \n",
       "3995                   3              0.16          0  \n",
       "3996                  11              0.36          1  \n",
       "3997                   3              0.61          1  \n",
       "3998                   5              0.23          1  \n",
       "3999                   4              0.06          0  \n",
       "\n",
       "[4000 rows x 9 columns]"
      ]
     },
     "execution_count": 2,
     "metadata": {},
     "output_type": "execute_result"
    }
   ],
   "source": [
    "# Import the data set \n",
    "DF = pd.read_csv(\"https://raw.githubusercontent.com/cmparlettpelleriti/CPSC392ParlettPelleriti/master/Data/HW2.csv\")\n",
    "DF"
   ]
  },
  {
   "cell_type": "code",
   "execution_count": 3,
   "metadata": {},
   "outputs": [],
   "source": [
    "# Modify Columns with more than two categories using get_dummies()\n",
    "\n",
    "# Modify the gender category that has more than one category  \n",
    "dummies_gender = pd.get_dummies(DF[\"gender_id\"])\n",
    "# print(dummies_gender)\n",
    "\n",
    "# Modify the State Category that has more than one category\n",
    "dummies_state = pd.get_dummies(DF[\"state\"])\n",
    "# print(dummies_state)"
   ]
  },
  {
   "cell_type": "code",
   "execution_count": 4,
   "metadata": {},
   "outputs": [
    {
     "name": "stdout",
     "output_type": "stream",
     "text": [
      "Index(['Female', 'Male', 'Non-Binary',\n",
      "       'Survey Choices Do Not Accurately Reflect My Identity'],\n",
      "      dtype='object')\n"
     ]
    }
   ],
   "source": [
    "print(dummies_gender.columns)"
   ]
  },
  {
   "cell_type": "code",
   "execution_count": 5,
   "metadata": {},
   "outputs": [],
   "source": [
    "# Add the new dummies columns and remove the old column that was modified\n",
    "DF = pd.concat([DF,dummies_gender], axis = 1) #there are other ways to do this too\n",
    "DF = DF.drop(columns = [\"gender_id\"])\n",
    "# DF"
   ]
  },
  {
   "cell_type": "code",
   "execution_count": 6,
   "metadata": {},
   "outputs": [
    {
     "name": "stdout",
     "output_type": "stream",
     "text": [
      "Index(['AK', 'AL', 'AR', 'AZ', 'CA', 'CO', 'CT', 'DE', 'FL', 'GA', 'HI', 'IA',\n",
      "       'ID', 'IL', 'IN', 'KS', 'KY', 'LA', 'MA', 'MD', 'ME', 'MI', 'MN', 'MO',\n",
      "       'MS', 'MT', 'NC', 'ND', 'NE', 'NH', 'NJ', 'NM', 'NV', 'NY', 'OH', 'OK',\n",
      "       'OR', 'PA', 'RI', 'SC', 'SD', 'TN', 'TX', 'UT', 'VA', 'VT', 'WA', 'WI',\n",
      "       'WV', 'WY'],\n",
      "      dtype='object')\n"
     ]
    }
   ],
   "source": [
    "print(dummies_state.columns)"
   ]
  },
  {
   "cell_type": "code",
   "execution_count": 7,
   "metadata": {},
   "outputs": [],
   "source": [
    "# Add the new dummies columns and remove the old column that was modified\n",
    "DF = pd.concat([DF,dummies_state], axis = 1) #there are other ways to do this too\n",
    "DF = DF.drop(columns = [\"state\"])\n",
    "# DF"
   ]
  },
  {
   "cell_type": "code",
   "execution_count": 8,
   "metadata": {},
   "outputs": [],
   "source": [
    "# Create predictors list \n",
    "predictors = [\"age\", \"had_cancer\", \"income_in_k\", \"credit_score\", \"num_credit_sources\", \"utilization_rate\",\n",
    "             'Female', 'Male', 'Non-Binary', 'Survey Choices Do Not Accurately Reflect My Identity',\n",
    "             'AK', 'AL', 'AR', 'AZ', 'CA', 'CO', 'CT', 'DE', 'FL', 'GA', 'HI', 'IA','ID', 'IL', 'IN', 'KS', \n",
    "              'KY', 'LA', 'MA', 'MD', 'ME', 'MI', 'MN', 'MO', 'MS', 'MT', 'NC', 'ND', 'NE', 'NH', 'NJ', 'NM',\n",
    "              'NV', 'NY', 'OH', 'OK', 'OR', 'PA', 'RI', 'SC', 'SD', 'TN', 'TX', 'UT', 'VA', 'VT', 'WA', 'WI',\n",
    "              'WV', 'WY'] #\"gender_id\", \"state\"\n",
    "\n",
    "# Create a sepereate list for the continuous predictors for Z Scoring later\n",
    "cont_predictors = [\"age\", \"income_in_k\", \"credit_score\", \"num_credit_sources\", \"utilization_rate\"]"
   ]
  },
  {
   "cell_type": "code",
   "execution_count": 9,
   "metadata": {},
   "outputs": [],
   "source": [
    "# Create predictors and outcome variables\n",
    "X = DF[predictors]\n",
    "y = DF[\"gave_loan\"]"
   ]
  },
  {
   "cell_type": "code",
   "execution_count": 10,
   "metadata": {},
   "outputs": [],
   "source": [
    "# Create empty K-Neighbors Model\n",
    "knn = KNeighborsClassifier()\n",
    "\n",
    "#Create empty Decision Tree Model\n",
    "dtree = DecisionTreeClassifier()\n",
    "\n",
    "# Create empty Logistic Regression model\n",
    "logr = LogisticRegression()"
   ]
  },
  {
   "cell_type": "code",
   "execution_count": 11,
   "metadata": {},
   "outputs": [],
   "source": [
    "# Create empty List of Model Names \n",
    "names = []"
   ]
  },
  {
   "cell_type": "code",
   "execution_count": 12,
   "metadata": {},
   "outputs": [],
   "source": [
    "# Create empty lists for Accuracy Score of each model for the TRAINING set \n",
    "knn_acc_train = []\n",
    "dtree_acc_train = []\n",
    "logr_acc_train = []\n",
    "\n",
    "# Create list for mean of all accuracy scores for training set\n",
    "all_model_acc_training = []\n",
    "\n",
    "# Create empty lists for Accuracy Score of each model for the TESTING set \n",
    "knn_acc_test = []\n",
    "dtree_acc_test = []\n",
    "logr_acc_test = []\n",
    "\n",
    "# Create list for mean of all accuracy scores for testing set\n",
    "all_model_acc_testing = []"
   ]
  },
  {
   "cell_type": "code",
   "execution_count": 13,
   "metadata": {},
   "outputs": [],
   "source": [
    "# Create K Fold for loop with 5 folds \n",
    "kf = KFold(n_splits = 5)\n",
    "\n",
    "for train, test in kf.split(X):\n",
    "    X_train = X.iloc[train]\n",
    "    Xz_train = X.iloc[train]\n",
    "    X_test = X.iloc[test]\n",
    "    Xz_test = X.iloc[test]\n",
    "    y_train = y[train]\n",
    "    y_test = y[test]\n",
    "    \n",
    "    # create Z score object \n",
    "    z = StandardScaler()\n",
    "    z.fit(X_train[cont_predictors])\n",
    "    Xz_train[cont_predictors] = z.transform(X_train[cont_predictors])\n",
    "    Xz_test[cont_predictors] = z.transform(X_test[cont_predictors])\n",
    "    \n",
    "# Fit the Logistic Regression Model with ALL columns except gave_loan\n",
    "    logr.fit(X_train, y_train)\n",
    "    \n",
    "    # add the accuracy scores of the Decision Tree model to the dtree_acc list for the TRAINING SET\n",
    "    logr_acc_train.append(accuracy_score(y_train, logr.predict(X_train)))\n",
    "    \n",
    "    # add the accuracy scores of the KNN model to the knn_acc list for the TESTING SET\n",
    "    logr_acc_test.append(accuracy_score(y_test, logr.predict(X_test)))\n",
    "    "
   ]
  },
  {
   "cell_type": "markdown",
   "metadata": {},
   "source": [
    "# K-Nearest Neighbors Model "
   ]
  },
  {
   "cell_type": "code",
   "execution_count": 14,
   "metadata": {},
   "outputs": [],
   "source": [
    "# Add model name \n",
    "names.append(\"K-Nearest Neighbors\")\n",
    "\n",
    "# Create pipelines for Z Scoring for the KNN model \n",
    "zknn = make_column_transformer((StandardScaler(), cont_predictors))\n",
    "\n",
    "# Make a pipeline object for KNN model \n",
    "pipeknn = make_pipeline(zknn, knn)\n",
    "\n",
    "# print something\n",
    "# print(pipeknn.get_params().keys())"
   ]
  },
  {
   "cell_type": "code",
   "execution_count": 15,
   "metadata": {},
   "outputs": [],
   "source": [
    "# Use Grid Search for KNN model\n",
    "# Create a list of Ks we would like to test\n",
    "ks = {\"kneighborsclassifier__n_neighbors\": range(1, 30)}\n",
    "\n",
    "# Use Grid Search Function to find the best parameter\n",
    "gridknn = GridSearchCV(pipeknn, ks, scoring = \"accuracy\", cv = 5, refit = True)\n",
    "\n",
    "# Create a new knn model with ONLY the continuous predictors \n",
    "knnmod = gridknn.fit(X_train[cont_predictors], y_train)"
   ]
  },
  {
   "cell_type": "code",
   "execution_count": 16,
   "metadata": {},
   "outputs": [
    {
     "name": "stdout",
     "output_type": "stream",
     "text": [
      "Accuracy Score of KNN model on Training set  0.74125\n",
      "Accuracy Score of KNN model on Testing set  0.7175\n",
      "Difference 0.023749999999999938\n"
     ]
    }
   ],
   "source": [
    "# add the accuracy scores of the KNN model to the knn_acc list for the TRAINING SET\n",
    "knn_acc_train.append(accuracy_score(y_train, knnmod.predict(X_train[cont_predictors])))\n",
    "# print(knn_acc_train)\n",
    "print(\"Accuracy Score of KNN model on Training set \", accuracy_score(y_train, knnmod.predict(X_train[cont_predictors])))\n",
    "# np.mean(knn_acc_train)\n",
    "all_model_acc_training.append(accuracy_score(y_train, knnmod.predict(X_train[cont_predictors])))\n",
    "\n",
    "\n",
    "# add the accuracy scores of the KNN model to the knn_acc list for the TESTING SET\n",
    "knn_acc_test.append(accuracy_score(y_test, knnmod.predict(X_test[cont_predictors])))\n",
    "\n",
    "# print(knn_acc_test)\n",
    "print(\"Accuracy Score of KNN model on Testing set \", accuracy_score(y_test, knnmod.predict(X_test[cont_predictors])))\n",
    "# np.mean(knn_acc_test)\n",
    "all_model_acc_testing.append(accuracy_score(y_test, knnmod.predict(X_test[cont_predictors])))\n",
    "# accuracy_score(y_test, knnmod.predict(X_test[cont_predictors]))\n",
    "\n",
    "# print difference\n",
    "print(\"Difference\", accuracy_score(y_train, knnmod.predict(X_train[cont_predictors])) - accuracy_score(y_test, knnmod.predict(X_test[cont_predictors])))\n",
    "# np.mean(knn_acc_train) - np.mean(knn_acc_test)"
   ]
  },
  {
   "cell_type": "code",
   "execution_count": 17,
   "metadata": {},
   "outputs": [
    {
     "data": {
      "text/plain": [
       "<sklearn.metrics._plot.confusion_matrix.ConfusionMatrixDisplay at 0x1a97f4d4190>"
      ]
     },
     "execution_count": 17,
     "metadata": {},
     "output_type": "execute_result"
    },
    {
     "data": {
      "image/png": "[encoded data removed]",
      "text/plain": [
       "<Figure size 432x288 with 2 Axes>"
      ]
     },
     "metadata": {
      "needs_background": "light"
     },
     "output_type": "display_data"
    }
   ],
   "source": [
    "# Plot KNN Confusion Matrix with Testing Set\n",
    "plot_confusion_matrix(knnmod, X_test[cont_predictors], y_test)"
   ]
  },
  {
   "cell_type": "markdown",
   "metadata": {},
   "source": [
    "# Decision Tree Model"
   ]
  },
  {
   "cell_type": "code",
   "execution_count": 18,
   "metadata": {},
   "outputs": [],
   "source": [
    "# Add model name to names list \n",
    "names.append(\"Decision Tree\")\n",
    "\n",
    "# Create pipelines for Z Scoring for the Decision Tree model \n",
    "zdtree = make_column_transformer((StandardScaler(), cont_predictors)) \n",
    "\n",
    "# Make a pipeline \n",
    "pipedtree = make_pipeline(zdtree, dtree)\n",
    "\n",
    "# Print something\n",
    "# print(pipedtree.get_params().keys())"
   ]
  },
  {
   "cell_type": "code",
   "execution_count": 19,
   "metadata": {},
   "outputs": [
    {
     "name": "stdout",
     "output_type": "stream",
     "text": [
      "Best Depth =  1\n"
     ]
    }
   ],
   "source": [
    "# Use Grid Search for the Decision Tree model\n",
    "# Create a list of max depths we would like to test\n",
    "maxdepth = {\"decisiontreeclassifier__max_depth\": range(1, 9)}\n",
    "\n",
    "# Use Grid Search Function to find the best parameter\n",
    "griddtree = GridSearchCV(pipedtree, maxdepth, scoring = \"accuracy\", cv = 5, refit = True)\n",
    "\n",
    "# Create a new Decision Tree Model with ALL columns except gave_loan\n",
    "dtreemod = griddtree.fit(X_train, y_train)\n",
    "\n",
    "print(\"Best Depth = \", dtreemod.best_estimator_.get_params()[\"decisiontreeclassifier__max_depth\"])"
   ]
  },
  {
   "cell_type": "code",
   "execution_count": 20,
   "metadata": {},
   "outputs": [
    {
     "name": "stdout",
     "output_type": "stream",
     "text": [
      "Accuracy Score of Decision Tree model on Training set  0.73625\n",
      "Accuracy Score of Decision Tree model on Testing set  0.72125\n",
      "Difference 0.015000000000000013\n"
     ]
    }
   ],
   "source": [
    "# add the accuracy scores of the Decision Tree model to the dtree_acc list for the TRAINING SET\n",
    "dtree_acc_train.append(accuracy_score(y_train, dtreemod.predict(X_train)))\n",
    "# print(dtree_acc_train)\n",
    "print(\"Accuracy Score of Decision Tree model on Training set \", accuracy_score(y_train, dtreemod.predict(X_train)))\n",
    "# np.mean(dtree_acc_train)\n",
    "all_model_acc_training.append(accuracy_score(y_train, dtreemod.predict(X_train)))\n",
    "\n",
    "# add the accuracy scores of the KNN model to the knn_acc list for the TESTING SET\n",
    "dtree_acc_test.append(accuracy_score(y_test, dtreemod.predict(X_test)))\n",
    "# print(dtree_acc_test)\n",
    "print(\"Accuracy Score of Decision Tree model on Testing set \", accuracy_score(y_test, dtreemod.predict(X_test)))\n",
    "# np.mean(dtree_acc_test)\n",
    "all_model_acc_testing.append(accuracy_score(y_test, dtreemod.predict(X_test)))\n",
    "\n",
    "# print difference\n",
    "print(\"Difference\", accuracy_score(y_train, dtreemod.predict(X_train)) - accuracy_score(y_test, dtreemod.predict(X_test)))\n",
    "# np.mean(dtree_acc_train) - np.mean(dtree_acc_test)"
   ]
  },
  {
   "cell_type": "code",
   "execution_count": 21,
   "metadata": {},
   "outputs": [
    {
     "data": {
      "text/plain": [
       "<sklearn.metrics._plot.confusion_matrix.ConfusionMatrixDisplay at 0x1a97f63d280>"
      ]
     },
     "execution_count": 21,
     "metadata": {},
     "output_type": "execute_result"
    },
    {
     "data": {
      "image/png": "[encoded data removed]",
      "text/plain": [
       "<Figure size 432x288 with 2 Axes>"
      ]
     },
     "metadata": {
      "needs_background": "light"
     },
     "output_type": "display_data"
    }
   ],
   "source": [
    "# Plot Decision Tree Confusion Matrix for TESTING set\n",
    "plot_confusion_matrix(dtreemod, X_test, y_test)"
   ]
  },
  {
   "cell_type": "markdown",
   "metadata": {},
   "source": [
    "# Logistic Regression Model"
   ]
  },
  {
   "cell_type": "code",
   "execution_count": 22,
   "metadata": {},
   "outputs": [
    {
     "name": "stdout",
     "output_type": "stream",
     "text": [
      "Accuracy Score of Logistic Regression model on Training set  0.73875\n",
      "Accuracy Score of Logistic Regression model on Testing set  0.715\n",
      "Difference 0.02375000000000005\n"
     ]
    }
   ],
   "source": [
    "# Add model name to names list \n",
    "names.append(\"Logistic Regression\")\n",
    "\n",
    "# add the accuracy scores of the Logistic Regression model to the logr_acc list for the TRAINING SET\n",
    "logr_acc_train.append(accuracy_score(y_train, logr.predict(X_train)))\n",
    "# print(logr_acc_train)\n",
    "print(\"Accuracy Score of Logistic Regression model on Training set \", accuracy_score(y_train, logr.predict(X_train)))\n",
    "# np.mean(logr_acc_train)\n",
    "all_model_acc_training.append(accuracy_score(y_train, logr.predict(X_train)))\n",
    "\n",
    "# add the accuracy scores of the Logistic Regression model to the logr_acc list for the TESTING SET\n",
    "logr_acc_test.append(accuracy_score(y_test, logr.predict(X_test)))\n",
    "# print(logr_acc_test)\n",
    "print(\"Accuracy Score of Logistic Regression model on Testing set \", accuracy_score(y_test, logr.predict(X_test)))\n",
    "# np.mean(logr_acc_test)\n",
    "all_model_acc_testing.append(accuracy_score(y_test, logr.predict(X_test)))\n",
    "\n",
    "\n",
    "# print difference\n",
    "print(\"Difference\", accuracy_score(y_train, logr.predict(X_train)) - accuracy_score(y_test, logr.predict(X_test)))\n",
    "# np.mean(logr_acc_train) - np.mean(logr_acc_test)"
   ]
  },
  {
   "cell_type": "code",
   "execution_count": 23,
   "metadata": {},
   "outputs": [
    {
     "data": {
      "text/plain": [
       "<sklearn.metrics._plot.confusion_matrix.ConfusionMatrixDisplay at 0x1a97f6707f0>"
      ]
     },
     "execution_count": 23,
     "metadata": {},
     "output_type": "execute_result"
    },
    {
     "data": {
      "image/png": "[encoded data removed]",
      "text/plain": [
       "<Figure size 432x288 with 2 Axes>"
      ]
     },
     "metadata": {
      "needs_background": "light"
     },
     "output_type": "display_data"
    }
   ],
   "source": [
    "# Plot Logistic Regression Confusion Matrix for TESTING set\n",
    "plot_confusion_matrix(logr, X_test, y_test)"
   ]
  },
  {
   "cell_type": "code",
   "execution_count": 24,
   "metadata": {},
   "outputs": [
    {
     "data": {
      "text/html": [
       "<div>\n",
       "<style scoped>\n",
       "    .dataframe tbody tr th:only-of-type {\n",
       "        vertical-align: middle;\n",
       "    }\n",
       "\n",
       "    .dataframe tbody tr th {\n",
       "        vertical-align: top;\n",
       "    }\n",
       "\n",
       "    .dataframe thead th {\n",
       "        text-align: right;\n",
       "    }\n",
       "</style>\n",
       "<table border=\"1\" class=\"dataframe\">\n",
       "  <thead>\n",
       "    <tr style=\"text-align: right;\">\n",
       "      <th></th>\n",
       "      <th>Model Name</th>\n",
       "      <th>Accuracy Score</th>\n",
       "    </tr>\n",
       "  </thead>\n",
       "  <tbody>\n",
       "    <tr>\n",
       "      <th>0</th>\n",
       "      <td>K-Nearest Neighbors</td>\n",
       "      <td>0.71750</td>\n",
       "    </tr>\n",
       "    <tr>\n",
       "      <th>1</th>\n",
       "      <td>Decision Tree</td>\n",
       "      <td>0.72125</td>\n",
       "    </tr>\n",
       "    <tr>\n",
       "      <th>2</th>\n",
       "      <td>Logistic Regression</td>\n",
       "      <td>0.71500</td>\n",
       "    </tr>\n",
       "  </tbody>\n",
       "</table>\n",
       "</div>"
      ],
      "text/plain": [
       "            Model Name  Accuracy Score\n",
       "0  K-Nearest Neighbors         0.71750\n",
       "1        Decision Tree         0.72125\n",
       "2  Logistic Regression         0.71500"
      ]
     },
     "execution_count": 24,
     "metadata": {},
     "output_type": "execute_result"
    }
   ],
   "source": [
    "# Accuracy Score chart for all models\n",
    "acc_DF_testing = pd.DataFrame({ \"Model Name\": names,\n",
    "                       \"Accuracy Score\": all_model_acc_testing })\n",
    "acc_DF_testing"
   ]
  },
  {
   "cell_type": "markdown",
   "metadata": {},
   "source": [
    "## 2. *Evaluate Your Models (ANSWER IN MARKDOWN CELL)*"
   ]
  },
  {
   "cell_type": "markdown",
   "metadata": {},
   "source": [
    "A) Using accuracy and confusion matrices, **which model did best, how can you tell?**\n",
    "    "
   ]
  },
  {
   "cell_type": "markdown",
   "metadata": {},
   "source": [
    "The model that preformed the best was the Decision Tree Model. If we take a look at the accuracy scores for the Testing set, in the chart above, we see that the accuracy score for the Decision Tree model is the largest of the three models. Although the Decision Tree model has the highest accuracy score, when looking at the confusion matrix for the Decision Tree Model we see that the model has some concerning issues, the main issue that concerns me is that the two entries in the right column are both zero. This means that my Decision Tree Model is not predicting that person ***would*** recieve a loan at all. However, the other two models appear to have a similar trend with low values close to zero in the right column. For this reason we must pay extra attention to the accuracy scores of the three models, because the confusion matrices are all relatively the same and do not necessarily help in distinguishing which model is the best. "
   ]
  },
  {
   "cell_type": "markdown",
   "metadata": {},
   "source": [
    "B) **Are there differences in how well the three models you made in part 1 do for different gender IDs? (do not make new models, use the models from before)**\n",
    "   "
   ]
  },
  {
   "cell_type": "markdown",
   "metadata": {},
   "source": [
    "#### Accuracy Score of the three Models Based on Gender ID = Female ONLY"
   ]
  },
  {
   "cell_type": "code",
   "execution_count": 25,
   "metadata": {},
   "outputs": [
    {
     "name": "stdout",
     "output_type": "stream",
     "text": [
      "Accuracy Score of KNN 0.7358024691358025\n",
      "Accuracy Score of Decision Tree 0.7407407407407407\n",
      "Accuracy Score of Logistic Regression 0.7308641975308642\n"
     ]
    }
   ],
   "source": [
    "# 'Female' ONLY\n",
    "female = DF['Female'] == 1\n",
    "print(\"Accuracy Score of KNN\", accuracy_score(y_test.loc[female], knnmod.predict(X_test[cont_predictors].loc[female])))\n",
    "print(\"Accuracy Score of Decision Tree\", accuracy_score(y_test.loc[female], dtreemod.predict(X_test.loc[female])))\n",
    "print(\"Accuracy Score of Logistic Regression\", accuracy_score(y_test.loc[female], logr.predict(X_test.loc[female])))"
   ]
  },
  {
   "cell_type": "markdown",
   "metadata": {},
   "source": [
    "#### Accuracy Score of the three Models Based on Gender ID = Male ONLY"
   ]
  },
  {
   "cell_type": "code",
   "execution_count": 26,
   "metadata": {},
   "outputs": [
    {
     "name": "stdout",
     "output_type": "stream",
     "text": [
      "Accuracy Score of KNN 0.6957671957671958\n",
      "Accuracy Score of Decision Tree 0.6957671957671958\n",
      "Accuracy Score of Logistic Regression 0.6931216931216931\n"
     ]
    }
   ],
   "source": [
    "# 'Male' ONLY\n",
    "male = DF['Male'] == 1\n",
    "print(\"Accuracy Score of KNN\", accuracy_score(y_test.loc[male], knnmod.predict(X_test[cont_predictors].loc[male])))\n",
    "print(\"Accuracy Score of Decision Tree\", accuracy_score(y_test.loc[male], dtreemod.predict(X_test.loc[male])))\n",
    "print(\"Accuracy Score of Logistic Regression\", accuracy_score(y_test.loc[male], logr.predict(X_test.loc[male])))"
   ]
  },
  {
   "cell_type": "markdown",
   "metadata": {},
   "source": [
    "#### Accuracy Score of the three Models Based on Gender ID = Non-Binary ONLY"
   ]
  },
  {
   "cell_type": "code",
   "execution_count": 27,
   "metadata": {},
   "outputs": [
    {
     "name": "stdout",
     "output_type": "stream",
     "text": [
      "Accuracy Score of KNN 0.8\n",
      "Accuracy Score of Decision Tree 0.8\n",
      "Accuracy Score of Logistic Regression 0.8\n"
     ]
    }
   ],
   "source": [
    "# 'Non-Binary' ONLY\n",
    "nb = DF['Non-Binary'] == 1\n",
    "print(\"Accuracy Score of KNN\", accuracy_score(y_test.loc[nb], knnmod.predict(X_test[cont_predictors].loc[nb])))\n",
    "print(\"Accuracy Score of Decision Tree\", accuracy_score(y_test.loc[nb], dtreemod.predict(X_test.loc[nb])))\n",
    "print(\"Accuracy Score of Logistic Regression\", accuracy_score(y_test.loc[nb], logr.predict(X_test.loc[nb])))"
   ]
  },
  {
   "cell_type": "markdown",
   "metadata": {},
   "source": [
    "#### Accuracy Score of the three Models Based on Gender ID = Survey Choices Do Not Accurately Reflect My Identity ONLY"
   ]
  },
  {
   "cell_type": "code",
   "execution_count": 28,
   "metadata": {},
   "outputs": [
    {
     "name": "stdout",
     "output_type": "stream",
     "text": [
      "Accuracy Score of KNN 0.7142857142857143\n",
      "Accuracy Score of Decision Tree 0.8571428571428571\n",
      "Accuracy Score of Logistic Regression 0.8571428571428571\n"
     ]
    }
   ],
   "source": [
    "# 'Survey Choices Do Not Accurately Reflect My Identity' ONLY\n",
    "sc = DF['Survey Choices Do Not Accurately Reflect My Identity'] == 1\n",
    "print(\"Accuracy Score of KNN\", accuracy_score(y_test.loc[sc], knnmod.predict(X_test[cont_predictors].loc[sc])))\n",
    "print(\"Accuracy Score of Decision Tree\", accuracy_score(y_test.loc[sc], dtreemod.predict(X_test.loc[sc])))\n",
    "print(\"Accuracy Score of Logistic Regression\", accuracy_score(y_test.loc[sc], logr.predict(X_test.loc[sc])))"
   ]
  },
  {
   "cell_type": "markdown",
   "metadata": {},
   "source": [
    "## Comments on Accuracy Scores Over Different Gender IDs"
   ]
  },
  {
   "cell_type": "markdown",
   "metadata": {},
   "source": [
    "From the results above, I can see that for each individual Gender ID all three models have accuracy scores that are fairly close to one another. Their relatively similarilarity in accuracy scores is a good result to see because it means that my models are not bias regarding Gender ID.\n",
    "\n",
    "However, overall the models appear to have varied accuracy scores for different Gender IDs which is slightly concerning but the difference is not so large that I believe the result negatively effects the overall accuracies of all of my models."
   ]
  },
  {
   "cell_type": "markdown",
   "metadata": {},
   "source": [
    "C) **Are your models better at predicting people who got loans, or didn't get loans? How can you tell? What are the possible implications of this**"
   ]
  },
  {
   "cell_type": "markdown",
   "metadata": {},
   "source": [
    "All of my models are better at predicting people who **do not** get loans. From the confusion matricies of all three of my models, we can see that the upper left corner of each confusion matrix has the highest values of the matrix. What this means is that each of my models are very accurate at predicting True negatives, or in other words when my models predicted that a person would not recieve a loan the data confirmed this prediction. \n",
    "\n",
    "A possible implication about why my models are  better at predicting True Negatives, may be the result of the data I used to build and test my models. If the data were from a very concervative bank or credit entity this may explain why my models are better at predicting people who **do not** get a loan, rather than the alternative.\n",
    "\n",
    "One possible ethical implication of this result is that if my models are used to predict who *should* recieve a loan they may deny people who do deserve to get a loan from recieving loans. While I think this is a valid concern given that all of my models have accuracies in the 0.7's I think it is better to error on the side of caution. What I mean is, that I believe it is better to predict that some people should not recieve a loan and deny people who deserve to recieve a loan than to predict that a person should recieve a loan and then give loans to people who do not deserve to recieve a loan. The reason I think this is a better outcome is because the possible risks associated with giving loans to people who do not deserve them, such as those people defaulting on the loan, causes more systemic damage to a community than not giving loans to people who deserve them. \n"
   ]
  }
 ],
 "metadata": {
  "hide_input": false,
  "kernelspec": {
   "display_name": "Python 3",
   "language": "python",
   "name": "python3"
  },
  "language_info": {
   "codemirror_mode": {
    "name": "ipython",
    "version": 3
   },
   "file_extension": ".py",
   "mimetype": "text/x-python",
   "name": "python",
   "nbconvert_exporter": "python",
   "pygments_lexer": "ipython3",
   "version": "3.8.3"
  },
  "toc": {
   "base_numbering": 1,
   "nav_menu": {},
   "number_sections": true,
   "sideBar": true,
   "skip_h1_title": false,
   "title_cell": "Table of Contents",
   "title_sidebar": "Contents",
   "toc_cell": false,
   "toc_position": {},
   "toc_section_display": true,
   "toc_window_display": false
  }
 },
 "nbformat": 4,
 "nbformat_minor": 4
}
