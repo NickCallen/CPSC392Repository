{
 "cells": [
  {
   "cell_type": "code",
   "execution_count": 1,
   "metadata": {},
   "outputs": [],
   "source": [
    "# Imports \n",
    "import matplotlib.pyplot as plt\n",
    "import pandas as pd\n",
    "import numpy as np\n",
    "from plotnine import *\n",
    "\n",
    "\n",
    "from sklearn.linear_model import LogisticRegression\n",
    "from sklearn.preprocessing import StandardScaler #Z-score variables\n",
    "from sklearn.metrics import accuracy_score, confusion_matrix, plot_confusion_matrix\n",
    "from sklearn.metrics import r2_score, mean_squared_error\n",
    "\n",
    "from sklearn.model_selection import train_test_split # simple TT split cv\n",
    "from sklearn.model_selection import KFold # k-fold cv\n",
    "from sklearn.model_selection import LeaveOneOut #LOO cv\n",
    "from sklearn.model_selection import cross_val_score # cross validation metrics\n",
    "from sklearn.model_selection import cross_val_predict # cross validation metrics\n",
    "\n",
    "# Remove warning labels\n",
    "import warnings\n",
    "warnings.filterwarnings('ignore')"
   ]
  },
  {
   "cell_type": "markdown",
   "metadata": {},
   "source": [
    "# Project 1\n",
    "\n",
    "[This dataset](https://raw.githubusercontent.com/cmparlettpelleriti/CPSC392ParlettPelleriti/master/Data/Proj1.csv) is adapted from the World Health Organization on Strokes (it's based on real data but is NOT REAL). Use this dataset to answer the following questions and perform the following tasks. Feel free to add extra cells as needed, but follow the structure listed here and clearly identify where each question is answered. Please remove any superflous code.\n",
    "\n",
    "## Data Information\n",
    "\n",
    "#### Categorical Variables \n",
    "- `reg_to_vote`: 0 if no, 1 if yes.\n",
    "- `hypertension`: 0 if the patient doesn't have hypertension, 1 if the patient has hypertension.\n",
    "- `heart_disease`: 0 if the patient doesn't have any heart diseases, 1 if the patient has a heart disease.\n",
    "- `ever_married`: 0 if no, 1 if yes.\n",
    "- `Residence_type`: 0 for Rural, 1 for Urban.\n",
    "- `smoking_status_smokes`, `smoking_status_formerly`: Whether or not the person smokes, or formerly smoked. If a person has 0's for both these columns, they never smoked.\n",
    "- `stroke`: 1 if the patient had a stroke or 0 if not.\n",
    "- `dog_owner`: 0 if no, 1 if yes.\n",
    "\n",
    "\n",
    "#### Continous Variables\n",
    "- `age`: age of the patient in years.\n",
    "- `avg_glucose_level`: average glucose level in blood.\n",
    "- `bmi`: body mass index.\n",
    "- `er_visits`: number of recorded Emergency Room visits in lifetime.\n",
    "- `racoons_to_fight`: number of racoons the patient belives they could fight off at once.\n",
    "- `fast_food_budget_month`: amount (in US dollars) spent on fast food per month.\n",
    "\n",
    "\n",
    "## Part I: Logistic Regression\n",
    "Build a **logistic regression** model to predict whether or not someone had a stroke based on **all** the other variables in the dataset.\n",
    "\n",
    "1. Count the missing data per column, and remove rows with missing data (if any).\n",
    "2. Use 10 fold cross validation for your model validation. Store both the train and test accuracies to check for overfitting. **Is the model overfit? How can you tell?** Z-score your continuous variables only.\n",
    "3. After completing steps 1-3, fit another logistic regression model on ALL of the data (no model validation) using the same predictors as before, and put the coefficients into a dataframe called `coef`.\n",
    "4. print out a confusion matrix for the model you made in part 3. **What does this confusion matrix tell you about your model? How can you tell?**\n",
    "\n",
    "## Part II: Data Exploration\n",
    "The WHO has asked the following five questions, create **at least 1 ggplot graph** (using the above data + model when needed) to help answer each question, and **explicitly answer the question in a Markdown cell** below your graph. You may use other calculations to help support your answer but MUST pair it with a graph. Write your answer as if you were explaining it to a non-data scientist. You will be graded on the effectiveness and clarity of your graph, as well as the completeness, clarity, and correctness of your responses and justifications.\n",
    "\n",
    "1. Do dog-ownders over 50 have a higher probability of stoke than non-dog owners who currently smoke? How can you tell?\n",
    "2. What is the relationship between average blood glucose and BMI? Is the relationship between those two variables different for people who are and are not registered to vote? How can you tell?\n",
    "3. Is your logistic regression model most accurate for people who make less than 30k, between 30-90k, or over 100k? Discuss the potential accuracy *and* ethical implications if your model *were* more accurate for different groups (you can use the full model from part I-3 to check accuracy).\n",
    "4. Which of the following variables is the strongest predictor of having a stroke (owning a dog, residence type, marriage, being registered to vote)? How were you able to tell?\n",
    "5. Create a variable `er_visits_per_year` that calculates the # of visits to the ER that a person has had per year of life. Store this variable in your data frame (no need to include this variable in the previous logistic regression model). Is the # of ER visits per year different for stroke and non-stroke patients? How can you tell?"
   ]
  },
  {
   "cell_type": "code",
   "execution_count": 2,
   "metadata": {},
   "outputs": [
    {
     "data": {
      "text/html": [
       "<div>\n",
       "<style scoped>\n",
       "    .dataframe tbody tr th:only-of-type {\n",
       "        vertical-align: middle;\n",
       "    }\n",
       "\n",
       "    .dataframe tbody tr th {\n",
       "        vertical-align: top;\n",
       "    }\n",
       "\n",
       "    .dataframe thead th {\n",
       "        text-align: right;\n",
       "    }\n",
       "</style>\n",
       "<table border=\"1\" class=\"dataframe\">\n",
       "  <thead>\n",
       "    <tr style=\"text-align: right;\">\n",
       "      <th></th>\n",
       "      <th>age</th>\n",
       "      <th>hypertension</th>\n",
       "      <th>heart_disease</th>\n",
       "      <th>ever_married</th>\n",
       "      <th>Residence_type</th>\n",
       "      <th>avg_glucose_level</th>\n",
       "      <th>bmi</th>\n",
       "      <th>stroke</th>\n",
       "      <th>smoking_status_smokes</th>\n",
       "      <th>smoking_status_formerly</th>\n",
       "      <th>reg_to_vote</th>\n",
       "      <th>dog_owner</th>\n",
       "      <th>raccoons_to_fight</th>\n",
       "      <th>fast_food_budget_month</th>\n",
       "      <th>income_in_k</th>\n",
       "      <th>er_visits</th>\n",
       "    </tr>\n",
       "  </thead>\n",
       "  <tbody>\n",
       "    <tr>\n",
       "      <th>0</th>\n",
       "      <td>60.0</td>\n",
       "      <td>1.0</td>\n",
       "      <td>0.0</td>\n",
       "      <td>0.0</td>\n",
       "      <td>1.0</td>\n",
       "      <td>73.00</td>\n",
       "      <td>25.2</td>\n",
       "      <td>0</td>\n",
       "      <td>1</td>\n",
       "      <td>0</td>\n",
       "      <td>1.0</td>\n",
       "      <td>1.0</td>\n",
       "      <td>10.0</td>\n",
       "      <td>209.19</td>\n",
       "      <td>51.553645</td>\n",
       "      <td>9.0</td>\n",
       "    </tr>\n",
       "    <tr>\n",
       "      <th>1</th>\n",
       "      <td>4.0</td>\n",
       "      <td>0.0</td>\n",
       "      <td>0.0</td>\n",
       "      <td>0.0</td>\n",
       "      <td>0.0</td>\n",
       "      <td>110.15</td>\n",
       "      <td>17.1</td>\n",
       "      <td>0</td>\n",
       "      <td>0</td>\n",
       "      <td>0</td>\n",
       "      <td>0.0</td>\n",
       "      <td>1.0</td>\n",
       "      <td>13.0</td>\n",
       "      <td>176.46</td>\n",
       "      <td>45.405414</td>\n",
       "      <td>5.0</td>\n",
       "    </tr>\n",
       "    <tr>\n",
       "      <th>2</th>\n",
       "      <td>77.0</td>\n",
       "      <td>0.0</td>\n",
       "      <td>0.0</td>\n",
       "      <td>1.0</td>\n",
       "      <td>1.0</td>\n",
       "      <td>68.38</td>\n",
       "      <td>27.8</td>\n",
       "      <td>0</td>\n",
       "      <td>0</td>\n",
       "      <td>0</td>\n",
       "      <td>0.0</td>\n",
       "      <td>1.0</td>\n",
       "      <td>6.0</td>\n",
       "      <td>213.00</td>\n",
       "      <td>94.865174</td>\n",
       "      <td>8.0</td>\n",
       "    </tr>\n",
       "    <tr>\n",
       "      <th>3</th>\n",
       "      <td>37.0</td>\n",
       "      <td>0.0</td>\n",
       "      <td>0.0</td>\n",
       "      <td>1.0</td>\n",
       "      <td>1.0</td>\n",
       "      <td>95.08</td>\n",
       "      <td>30.1</td>\n",
       "      <td>0</td>\n",
       "      <td>0</td>\n",
       "      <td>0</td>\n",
       "      <td>1.0</td>\n",
       "      <td>1.0</td>\n",
       "      <td>12.0</td>\n",
       "      <td>161.90</td>\n",
       "      <td>84.123775</td>\n",
       "      <td>8.0</td>\n",
       "    </tr>\n",
       "    <tr>\n",
       "      <th>4</th>\n",
       "      <td>44.0</td>\n",
       "      <td>0.0</td>\n",
       "      <td>0.0</td>\n",
       "      <td>0.0</td>\n",
       "      <td>0.0</td>\n",
       "      <td>103.78</td>\n",
       "      <td>40.9</td>\n",
       "      <td>0</td>\n",
       "      <td>1</td>\n",
       "      <td>0</td>\n",
       "      <td>1.0</td>\n",
       "      <td>1.0</td>\n",
       "      <td>11.0</td>\n",
       "      <td>261.29</td>\n",
       "      <td>74.794596</td>\n",
       "      <td>11.0</td>\n",
       "    </tr>\n",
       "    <tr>\n",
       "      <th>...</th>\n",
       "      <td>...</td>\n",
       "      <td>...</td>\n",
       "      <td>...</td>\n",
       "      <td>...</td>\n",
       "      <td>...</td>\n",
       "      <td>...</td>\n",
       "      <td>...</td>\n",
       "      <td>...</td>\n",
       "      <td>...</td>\n",
       "      <td>...</td>\n",
       "      <td>...</td>\n",
       "      <td>...</td>\n",
       "      <td>...</td>\n",
       "      <td>...</td>\n",
       "      <td>...</td>\n",
       "      <td>...</td>\n",
       "    </tr>\n",
       "    <tr>\n",
       "      <th>14995</th>\n",
       "      <td>52.0</td>\n",
       "      <td>1.0</td>\n",
       "      <td>0.0</td>\n",
       "      <td>0.0</td>\n",
       "      <td>1.0</td>\n",
       "      <td>106.22</td>\n",
       "      <td>29.0</td>\n",
       "      <td>0</td>\n",
       "      <td>0</td>\n",
       "      <td>0</td>\n",
       "      <td>0.0</td>\n",
       "      <td>0.0</td>\n",
       "      <td>1.0</td>\n",
       "      <td>179.77</td>\n",
       "      <td>74.826197</td>\n",
       "      <td>9.0</td>\n",
       "    </tr>\n",
       "    <tr>\n",
       "      <th>14996</th>\n",
       "      <td>56.0</td>\n",
       "      <td>0.0</td>\n",
       "      <td>0.0</td>\n",
       "      <td>1.0</td>\n",
       "      <td>1.0</td>\n",
       "      <td>63.18</td>\n",
       "      <td>26.5</td>\n",
       "      <td>0</td>\n",
       "      <td>0</td>\n",
       "      <td>0</td>\n",
       "      <td>1.0</td>\n",
       "      <td>0.0</td>\n",
       "      <td>15.0</td>\n",
       "      <td>143.61</td>\n",
       "      <td>52.280949</td>\n",
       "      <td>16.0</td>\n",
       "    </tr>\n",
       "    <tr>\n",
       "      <th>14997</th>\n",
       "      <td>60.0</td>\n",
       "      <td>1.0</td>\n",
       "      <td>0.0</td>\n",
       "      <td>1.0</td>\n",
       "      <td>0.0</td>\n",
       "      <td>100.20</td>\n",
       "      <td>28.6</td>\n",
       "      <td>0</td>\n",
       "      <td>0</td>\n",
       "      <td>0</td>\n",
       "      <td>0.0</td>\n",
       "      <td>1.0</td>\n",
       "      <td>17.0</td>\n",
       "      <td>64.87</td>\n",
       "      <td>92.427118</td>\n",
       "      <td>24.0</td>\n",
       "    </tr>\n",
       "    <tr>\n",
       "      <th>14998</th>\n",
       "      <td>77.0</td>\n",
       "      <td>0.0</td>\n",
       "      <td>0.0</td>\n",
       "      <td>1.0</td>\n",
       "      <td>0.0</td>\n",
       "      <td>90.00</td>\n",
       "      <td>32.0</td>\n",
       "      <td>0</td>\n",
       "      <td>0</td>\n",
       "      <td>0</td>\n",
       "      <td>0.0</td>\n",
       "      <td>0.0</td>\n",
       "      <td>11.0</td>\n",
       "      <td>205.92</td>\n",
       "      <td>53.042139</td>\n",
       "      <td>6.0</td>\n",
       "    </tr>\n",
       "    <tr>\n",
       "      <th>14999</th>\n",
       "      <td>44.0</td>\n",
       "      <td>0.0</td>\n",
       "      <td>0.0</td>\n",
       "      <td>1.0</td>\n",
       "      <td>0.0</td>\n",
       "      <td>74.91</td>\n",
       "      <td>26.9</td>\n",
       "      <td>0</td>\n",
       "      <td>0</td>\n",
       "      <td>0</td>\n",
       "      <td>0.0</td>\n",
       "      <td>0.0</td>\n",
       "      <td>8.0</td>\n",
       "      <td>184.14</td>\n",
       "      <td>70.317707</td>\n",
       "      <td>4.0</td>\n",
       "    </tr>\n",
       "  </tbody>\n",
       "</table>\n",
       "<p>15000 rows × 16 columns</p>\n",
       "</div>"
      ],
      "text/plain": [
       "        age  hypertension  heart_disease  ever_married  Residence_type  \\\n",
       "0      60.0           1.0            0.0           0.0             1.0   \n",
       "1       4.0           0.0            0.0           0.0             0.0   \n",
       "2      77.0           0.0            0.0           1.0             1.0   \n",
       "3      37.0           0.0            0.0           1.0             1.0   \n",
       "4      44.0           0.0            0.0           0.0             0.0   \n",
       "...     ...           ...            ...           ...             ...   \n",
       "14995  52.0           1.0            0.0           0.0             1.0   \n",
       "14996  56.0           0.0            0.0           1.0             1.0   \n",
       "14997  60.0           1.0            0.0           1.0             0.0   \n",
       "14998  77.0           0.0            0.0           1.0             0.0   \n",
       "14999  44.0           0.0            0.0           1.0             0.0   \n",
       "\n",
       "       avg_glucose_level   bmi  stroke  smoking_status_smokes  \\\n",
       "0                  73.00  25.2       0                      1   \n",
       "1                 110.15  17.1       0                      0   \n",
       "2                  68.38  27.8       0                      0   \n",
       "3                  95.08  30.1       0                      0   \n",
       "4                 103.78  40.9       0                      1   \n",
       "...                  ...   ...     ...                    ...   \n",
       "14995             106.22  29.0       0                      0   \n",
       "14996              63.18  26.5       0                      0   \n",
       "14997             100.20  28.6       0                      0   \n",
       "14998              90.00  32.0       0                      0   \n",
       "14999              74.91  26.9       0                      0   \n",
       "\n",
       "       smoking_status_formerly  reg_to_vote  dog_owner  raccoons_to_fight  \\\n",
       "0                            0          1.0        1.0               10.0   \n",
       "1                            0          0.0        1.0               13.0   \n",
       "2                            0          0.0        1.0                6.0   \n",
       "3                            0          1.0        1.0               12.0   \n",
       "4                            0          1.0        1.0               11.0   \n",
       "...                        ...          ...        ...                ...   \n",
       "14995                        0          0.0        0.0                1.0   \n",
       "14996                        0          1.0        0.0               15.0   \n",
       "14997                        0          0.0        1.0               17.0   \n",
       "14998                        0          0.0        0.0               11.0   \n",
       "14999                        0          0.0        0.0                8.0   \n",
       "\n",
       "       fast_food_budget_month  income_in_k  er_visits  \n",
       "0                      209.19    51.553645        9.0  \n",
       "1                      176.46    45.405414        5.0  \n",
       "2                      213.00    94.865174        8.0  \n",
       "3                      161.90    84.123775        8.0  \n",
       "4                      261.29    74.794596       11.0  \n",
       "...                       ...          ...        ...  \n",
       "14995                  179.77    74.826197        9.0  \n",
       "14996                  143.61    52.280949       16.0  \n",
       "14997                   64.87    92.427118       24.0  \n",
       "14998                  205.92    53.042139        6.0  \n",
       "14999                  184.14    70.317707        4.0  \n",
       "\n",
       "[15000 rows x 16 columns]"
      ]
     },
     "execution_count": 2,
     "metadata": {},
     "output_type": "execute_result"
    }
   ],
   "source": [
    "# Import the data and create a dataframe\n",
    "DF = pd.read_csv(\"https://raw.githubusercontent.com/cmparlettpelleriti/CPSC392ParlettPelleriti/master/Data/Proj1.csv\")\n",
    "DF"
   ]
  },
  {
   "cell_type": "markdown",
   "metadata": {},
   "source": [
    "## PART I"
   ]
  },
  {
   "cell_type": "markdown",
   "metadata": {},
   "source": [
    "Build a logistic regression model to predict whether or not someone had a stroke based on **all** the other variables in the dataset."
   ]
  },
  {
   "cell_type": "markdown",
   "metadata": {},
   "source": [
    "1. Count the missing data per column, and remove rows with missing data (if any)."
   ]
  },
  {
   "cell_type": "code",
   "execution_count": 3,
   "metadata": {},
   "outputs": [
    {
     "data": {
      "text/plain": [
       "age                         13\n",
       "hypertension                12\n",
       "heart_disease               21\n",
       "ever_married                 9\n",
       "Residence_type              21\n",
       "avg_glucose_level           31\n",
       "bmi                        575\n",
       "stroke                       0\n",
       "smoking_status_smokes        0\n",
       "smoking_status_formerly      0\n",
       "reg_to_vote                 14\n",
       "dog_owner                   21\n",
       "raccoons_to_fight           27\n",
       "fast_food_budget_month       8\n",
       "income_in_k                 21\n",
       "er_visits                   15\n",
       "dtype: int64"
      ]
     },
     "execution_count": 3,
     "metadata": {},
     "output_type": "execute_result"
    }
   ],
   "source": [
    "# counting the missing data per column\n",
    "DF.isna()\n",
    "DF.isna().sum()"
   ]
  },
  {
   "cell_type": "code",
   "execution_count": 4,
   "metadata": {},
   "outputs": [
    {
     "data": {
      "text/plain": [
       "age                        0\n",
       "hypertension               0\n",
       "heart_disease              0\n",
       "ever_married               0\n",
       "Residence_type             0\n",
       "avg_glucose_level          0\n",
       "bmi                        0\n",
       "stroke                     0\n",
       "smoking_status_smokes      0\n",
       "smoking_status_formerly    0\n",
       "reg_to_vote                0\n",
       "dog_owner                  0\n",
       "raccoons_to_fight          0\n",
       "fast_food_budget_month     0\n",
       "income_in_k                0\n",
       "er_visits                  0\n",
       "dtype: int64"
      ]
     },
     "execution_count": 4,
     "metadata": {},
     "output_type": "execute_result"
    }
   ],
   "source": [
    "# Remove the missing data points from the Data Set\n",
    "DF = DF.dropna()\n",
    "DF.isna()\n",
    "DF.isna().sum()"
   ]
  },
  {
   "cell_type": "code",
   "execution_count": 5,
   "metadata": {
    "jupyter": {
     "source_hidden": true
    }
   },
   "outputs": [
    {
     "name": "stdout",
     "output_type": "stream",
     "text": [
      "13646\n"
     ]
    },
    {
     "data": {
      "text/plain": [
       "14222"
      ]
     },
     "execution_count": 5,
     "metadata": {},
     "output_type": "execute_result"
    }
   ],
   "source": [
    "print((DF[\"stroke\"] == 0).sum())\n",
    "DF[\"stroke\"].count()"
   ]
  },
  {
   "cell_type": "markdown",
   "metadata": {},
   "source": [
    "2. Use 10 fold cross validation for your model validation. Store both the train and test accuracies to check for overfitting. **Is the model overfit? How can you tell?** Z-score your continuous variables only."
   ]
  },
  {
   "cell_type": "code",
   "execution_count": 6,
   "metadata": {},
   "outputs": [],
   "source": [
    "# Identify predictors \n",
    "predictors = [\"age\", \"hypertension\", \"heart_disease\", \"ever_married\", \"Residence_type\", \"avg_glucose_level\",\n",
    "              \"bmi\", \"smoking_status_smokes\", \"smoking_status_formerly\", \"reg_to_vote\", \"dog_owner\", \n",
    "              \"raccoons_to_fight\", \"fast_food_budget_month\", \"income_in_k\", \"er_visits\"]  \n",
    "# Outcome \n",
    "#[\"stroke\"]"
   ]
  },
  {
   "cell_type": "code",
   "execution_count": 7,
   "metadata": {},
   "outputs": [],
   "source": [
    "# Create predictors and outcome variables\n",
    "X = DF[predictors]\n",
    "y = DF[\"stroke\"]"
   ]
  },
  {
   "cell_type": "code",
   "execution_count": 8,
   "metadata": {},
   "outputs": [],
   "source": [
    "# Fix y syntax error\n",
    "y = np.ravel(y)"
   ]
  },
  {
   "cell_type": "code",
   "execution_count": 9,
   "metadata": {},
   "outputs": [],
   "source": [
    "# Create KFold object with 10 folds \n",
    "KF = KFold(n_splits = 10)\n",
    "\n",
    "# Create empty Logistic Regression model\n",
    "logr = LogisticRegression()\n",
    "\n",
    "# Create empty List for accuracy score of each fold\n",
    "acc_train = []\n",
    "acc_test = []"
   ]
  },
  {
   "cell_type": "code",
   "execution_count": 10,
   "metadata": {},
   "outputs": [],
   "source": [
    "# Use a for loop to loop through each fold and then train the model and finally record the accuracy\n",
    "for train, test in KF.split(X):\n",
    "    X_train = X.iloc[train]\n",
    "    X_test = X.iloc[test]\n",
    "    y_train = y[train]\n",
    "    y_test = y[test]\n",
    "    \n",
    "    # fit model on training predictors and outcome variables \n",
    "    logr.fit(X_train, y_train)\n",
    "    \n",
    "    # Z score the continuous predictor variables\n",
    "    cont_predictors = [\"age\", \"avg_glucose_level\", \"bmi\", \"er_visits\", \"raccoons_to_fight\", \"fast_food_budget_month\",\"income_in_k\"]\n",
    "    Zscore = StandardScaler()\n",
    "    Zscore.fit(X_train[cont_predictors])\n",
    "    X_train[cont_predictors] = Zscore.transform(X_train[cont_predictors])\n",
    "    X_test[cont_predictors] = Zscore.transform(X_test[cont_predictors])\n",
    "\n",
    "    # create predicted outcome variables\n",
    "    #y_predicted = logr.predict(X_test)\n",
    "    \n",
    "    # append the accuracy score of each fold\n",
    "    acc_train.append(accuracy_score(y_train, logr.predict(X_train)))\n",
    "    \n",
    "    # append the accuracy score of each fold\n",
    "    acc_test.append(accuracy_score(y_test, logr.predict(X_test)))\n",
    "    "
   ]
  },
  {
   "cell_type": "code",
   "execution_count": 11,
   "metadata": {},
   "outputs": [],
   "source": [
    "# Create a function of the KFold cross validation with logistic regression model for later problems\n",
    "def KF10_Log(DFnew, result, ravel = False):\n",
    "    predictors = [\"age\", \"hypertension\", \"heart_disease\", \"ever_married\", \"Residence_type\", \"avg_glucose_level\",\n",
    "              \"bmi\", \"smoking_status_smokes\", \"smoking_status_formerly\", \"reg_to_vote\", \"dog_owner\", \"raccoons_to_fight\",\n",
    "              \"fast_food_budget_month\", \"income_in_k\", \"er_visits\"]\n",
    "    \n",
    "    # Set predictor and outcome variables\n",
    "    Xnew = DFnew[predictors]\n",
    "    ynew = DFnew[\"stroke\"]\n",
    "    \n",
    "    if ravel == True:\n",
    "        ynew = np.ravel(ynew)\n",
    "    \n",
    "    # Create KFold object with 10 folds \n",
    "    KF = KFold(n_splits = 10)\n",
    "\n",
    "    # Create empty Logistic Regression model\n",
    "    logr = LogisticRegression()\n",
    "\n",
    "    # Create empty List for accuracy score of each fold\n",
    "    acc_newtrain = []\n",
    "    acc_newtest = []\n",
    "    \n",
    "    # Use a for loop to loop through each fold and then train the model and finally record the accuracy\n",
    "    for train, test in KF.split(Xnew):\n",
    "        Xnew_train = Xnew.iloc[train]\n",
    "        Xnew_test = Xnew.iloc[test]\n",
    "        ynew_train = ynew[train]\n",
    "        ynew_test = ynew[test]\n",
    "\n",
    "        # fit model on training predictors and outcome variables \n",
    "        logr.fit(Xnew_train, ynew_train)\n",
    "\n",
    "        # Z score the continuous predictor variables\n",
    "        cont_predictors = [\"age\", \"avg_glucose_level\", \"bmi\", \"er_visits\", \"raccoons_to_fight\", \"fast_food_budget_month\",\"income_in_k\"]\n",
    "        Zscore = StandardScaler()\n",
    "        Zscore.fit(X_train[cont_predictors])\n",
    "        Xnew_train[cont_predictors] = Zscore.transform(Xnew_train[cont_predictors])\n",
    "        Xnew_test[cont_predictors] = Zscore.transform(Xnew_test[cont_predictors])\n",
    "\n",
    "        # create predicted outcome variables\n",
    "        #y_predicted = logr.predict(X_test)\n",
    "\n",
    "        # append the accuracy score of each fold\n",
    "        acc_newtrain.append(accuracy_score(ynew_train, logr.predict(Xnew_train)))\n",
    "\n",
    "        # append the accuracy score of each fold\n",
    "        acc_newtest.append(accuracy_score(ynew_test, logr.predict(Xnew_test)))\n",
    "        \n",
    "    r2_result = r2_score(ynew_train, logr.predict(Xnew_train))\n",
    "        \n",
    "    coef = pd.DataFrame({ \"Names\" : predictors, \n",
    "                     \"ODDS coef\" : np.exp(logr.coef_[0]), \n",
    "                     \"Log-odds coef\" : logr.coef_[0],\n",
    "                     \"Probability coef\" : np.exp(logr.coef_[0]) / (1 + np.exp(logr.coef_[0]))\n",
    "                     })\n",
    "    \n",
    "    if result == \"coef\":\n",
    "        return coef\n",
    "    \n",
    "    if result == \"acc_train\":\n",
    "        return acc_newtrain\n",
    "    \n",
    "    if result == \"acc_test\":\n",
    "        return acc_newtest\n",
    "    \n",
    "    if result == \"acc_train_mean\":\n",
    "        mean_acc_train = np.mean(acc_newtrain)\n",
    "        return mean_acc_train\n",
    "    \n",
    "    if result == \"acc_test_mean\":\n",
    "        mean_acc_test = np.mean(acc_newtest)\n",
    "        return mean_acc_test\n",
    "    \n",
    "    if result == \"r2\":\n",
    "        return r2_result #coef, acc,"
   ]
  },
  {
   "cell_type": "code",
   "execution_count": 12,
   "metadata": {},
   "outputs": [],
   "source": [
    "# This is a function that takes a data frame and gives the accuracy score of that data frame based on the original model \n",
    "def KF10_NOFIT(DFnew, result):\n",
    "    predictors = [\"age\", \"hypertension\", \"heart_disease\", \"ever_married\", \"Residence_type\", \"avg_glucose_level\",\n",
    "              \"bmi\", \"smoking_status_smokes\", \"smoking_status_formerly\", \"reg_to_vote\", \"dog_owner\", \"raccoons_to_fight\",\n",
    "              \"fast_food_budget_month\", \"income_in_k\", \"er_visits\"]\n",
    "    \n",
    "    # Set predictor and outcome variables\n",
    "    Xnew = DFnew[predictors]\n",
    "    ynew = DFnew[\"stroke\"]\n",
    "    \n",
    "    # Create KFold object with 10 folds \n",
    "    KF = KFold(n_splits = 10)\n",
    "    \n",
    "    # Create empty List for accuracy score of each fold\n",
    "    acc_newtrain = []\n",
    "    acc_newtest = []\n",
    "    \n",
    "    # Use a for loop to loop through each fold and then train the model and finally record the accuracy\n",
    "    for train, test in KF.split(Xnew):\n",
    "        Xnew_train = Xnew.iloc[train]\n",
    "        Xnew_test = Xnew.iloc[test]\n",
    "        ynew_train = ynew[train]\n",
    "        ynew_test = ynew[test]\n",
    "        \n",
    "        # Use the original Logistic Regression Model made from the original DF\n",
    "        \n",
    "        # append the accuracy score of each fold\n",
    "        acc_newtrain.append(accuracy_score(ynew_train, logr.predict(Xnew_train)))\n",
    "\n",
    "        # append the accuracy score of each fold\n",
    "        acc_newtest.append(accuracy_score(ynew_test, logr.predict(Xnew_test)))\n",
    "        \n",
    "    if result == \"acc_train\":\n",
    "        return acc_newtrain\n",
    "    \n",
    "    if result == \"acc_test\":\n",
    "        return acc_newtest\n",
    "    \n",
    "    if result == \"acc_train_mean\":\n",
    "        mean_acc_train = np.mean(acc_newtrain)\n",
    "        return mean_acc_train\n",
    "    \n",
    "    if result == \"acc_test_mean\":\n",
    "        mean_acc_test = np.mean(acc_newtest)\n",
    "        return mean_acc_test"
   ]
  },
  {
   "cell_type": "code",
   "execution_count": 13,
   "metadata": {},
   "outputs": [
    {
     "name": "stdout",
     "output_type": "stream",
     "text": [
      "[0.9592155637159153, 0.9607000546917728, 0.95984375, 0.958671875, 0.959296875, 0.95921875, 0.95984375, 0.960234375, 0.958671875, 0.958984375]\n"
     ]
    },
    {
     "data": {
      "text/plain": [
       "0.9594681243407688"
      ]
     },
     "execution_count": 13,
     "metadata": {},
     "output_type": "execute_result"
    }
   ],
   "source": [
    "# Accuracy Score of the training set\n",
    "print(acc_train)\n",
    "np.mean(acc_train)"
   ]
  },
  {
   "cell_type": "code",
   "execution_count": 14,
   "metadata": {},
   "outputs": [
    {
     "name": "stdout",
     "output_type": "stream",
     "text": [
      "[0.9613492621222769, 0.9486999297259311, 0.9556962025316456, 0.9669479606188467, 0.960618846694796, 0.9620253164556962, 0.9563994374120957, 0.9528832630098453, 0.9662447257383966, 0.9641350210970464]\n"
     ]
    },
    {
     "data": {
      "text/plain": [
       "0.9594999965406578"
      ]
     },
     "execution_count": 14,
     "metadata": {},
     "output_type": "execute_result"
    }
   ],
   "source": [
    "# Accuracy Score of the testing set\n",
    "print(acc_test)\n",
    "np.mean(acc_test)"
   ]
  },
  {
   "cell_type": "markdown",
   "metadata": {},
   "source": [
    "#### Comment on Overfitting"
   ]
  },
  {
   "cell_type": "markdown",
   "metadata": {},
   "source": [
    "Since the Accuracy Score of the model using the training data is negagibly below the Accuracy Score of the model using the testing set data I am not concerned about overfitting for this model. Had the difference in the Accuracy Score for the training set vs the Accuracy Score of the testing set been larger (about 100x what it is now) then I would be concerned about overfitting for this model. "
   ]
  },
  {
   "cell_type": "markdown",
   "metadata": {},
   "source": [
    "3. After completing steps 1-3, fit another logistic regression model on ALL of the data (no model validation) using the same predictors as before, and put the coefficients into a dataframe called `coef`."
   ]
  },
  {
   "cell_type": "code",
   "execution_count": 15,
   "metadata": {},
   "outputs": [],
   "source": [
    "# Z Score continuous Variables \n",
    "cont_predictors = [\"age\", \"avg_glucose_level\", \"bmi\", \"er_visits\", \"raccoons_to_fight\", \"fast_food_budget_month\",\"income_in_k\"]\n",
    "Zscore = StandardScaler()\n",
    "Zscore.fit(X[cont_predictors])\n",
    "X[cont_predictors] = Zscore.transform(X[cont_predictors])"
   ]
  },
  {
   "cell_type": "code",
   "execution_count": 16,
   "metadata": {},
   "outputs": [
    {
     "data": {
      "text/plain": [
       "LogisticRegression()"
      ]
     },
     "execution_count": 16,
     "metadata": {},
     "output_type": "execute_result"
    }
   ],
   "source": [
    "# Make a new logistic Regression Model without Cross Validation\n",
    "logrnew = LogisticRegression()\n",
    "logrnew.fit(X, y)"
   ]
  },
  {
   "cell_type": "code",
   "execution_count": 17,
   "metadata": {},
   "outputs": [
    {
     "data": {
      "text/html": [
       "<div>\n",
       "<style scoped>\n",
       "    .dataframe tbody tr th:only-of-type {\n",
       "        vertical-align: middle;\n",
       "    }\n",
       "\n",
       "    .dataframe tbody tr th {\n",
       "        vertical-align: top;\n",
       "    }\n",
       "\n",
       "    .dataframe thead th {\n",
       "        text-align: right;\n",
       "    }\n",
       "</style>\n",
       "<table border=\"1\" class=\"dataframe\">\n",
       "  <thead>\n",
       "    <tr style=\"text-align: right;\">\n",
       "      <th></th>\n",
       "      <th>Names</th>\n",
       "      <th>ODDS coef</th>\n",
       "      <th>Log-odds coef</th>\n",
       "      <th>Probability coef</th>\n",
       "    </tr>\n",
       "  </thead>\n",
       "  <tbody>\n",
       "    <tr>\n",
       "      <th>0</th>\n",
       "      <td>age</td>\n",
       "      <td>5.018449</td>\n",
       "      <td>1.613121</td>\n",
       "      <td>0.833844</td>\n",
       "    </tr>\n",
       "    <tr>\n",
       "      <th>1</th>\n",
       "      <td>hypertension</td>\n",
       "      <td>1.283438</td>\n",
       "      <td>0.249543</td>\n",
       "      <td>0.562064</td>\n",
       "    </tr>\n",
       "    <tr>\n",
       "      <th>2</th>\n",
       "      <td>heart_disease</td>\n",
       "      <td>1.527140</td>\n",
       "      <td>0.423396</td>\n",
       "      <td>0.604296</td>\n",
       "    </tr>\n",
       "    <tr>\n",
       "      <th>3</th>\n",
       "      <td>ever_married</td>\n",
       "      <td>0.828644</td>\n",
       "      <td>-0.187965</td>\n",
       "      <td>0.453147</td>\n",
       "    </tr>\n",
       "    <tr>\n",
       "      <th>4</th>\n",
       "      <td>Residence_type</td>\n",
       "      <td>0.980405</td>\n",
       "      <td>-0.019790</td>\n",
       "      <td>0.495053</td>\n",
       "    </tr>\n",
       "    <tr>\n",
       "      <th>5</th>\n",
       "      <td>avg_glucose_level</td>\n",
       "      <td>1.274811</td>\n",
       "      <td>0.242798</td>\n",
       "      <td>0.560403</td>\n",
       "    </tr>\n",
       "    <tr>\n",
       "      <th>6</th>\n",
       "      <td>bmi</td>\n",
       "      <td>1.118171</td>\n",
       "      <td>0.111694</td>\n",
       "      <td>0.527894</td>\n",
       "    </tr>\n",
       "    <tr>\n",
       "      <th>7</th>\n",
       "      <td>smoking_status_smokes</td>\n",
       "      <td>1.342612</td>\n",
       "      <td>0.294617</td>\n",
       "      <td>0.573126</td>\n",
       "    </tr>\n",
       "    <tr>\n",
       "      <th>8</th>\n",
       "      <td>smoking_status_formerly</td>\n",
       "      <td>1.156817</td>\n",
       "      <td>0.145672</td>\n",
       "      <td>0.536354</td>\n",
       "    </tr>\n",
       "    <tr>\n",
       "      <th>9</th>\n",
       "      <td>reg_to_vote</td>\n",
       "      <td>0.941835</td>\n",
       "      <td>-0.059925</td>\n",
       "      <td>0.485023</td>\n",
       "    </tr>\n",
       "    <tr>\n",
       "      <th>10</th>\n",
       "      <td>dog_owner</td>\n",
       "      <td>1.015539</td>\n",
       "      <td>0.015419</td>\n",
       "      <td>0.503855</td>\n",
       "    </tr>\n",
       "    <tr>\n",
       "      <th>11</th>\n",
       "      <td>raccoons_to_fight</td>\n",
       "      <td>0.989708</td>\n",
       "      <td>-0.010345</td>\n",
       "      <td>0.497414</td>\n",
       "    </tr>\n",
       "    <tr>\n",
       "      <th>12</th>\n",
       "      <td>fast_food_budget_month</td>\n",
       "      <td>2.031054</td>\n",
       "      <td>0.708555</td>\n",
       "      <td>0.670082</td>\n",
       "    </tr>\n",
       "    <tr>\n",
       "      <th>13</th>\n",
       "      <td>income_in_k</td>\n",
       "      <td>1.134348</td>\n",
       "      <td>0.126058</td>\n",
       "      <td>0.531473</td>\n",
       "    </tr>\n",
       "    <tr>\n",
       "      <th>14</th>\n",
       "      <td>er_visits</td>\n",
       "      <td>1.058398</td>\n",
       "      <td>0.056757</td>\n",
       "      <td>0.514185</td>\n",
       "    </tr>\n",
       "  </tbody>\n",
       "</table>\n",
       "</div>"
      ],
      "text/plain": [
       "                      Names  ODDS coef  Log-odds coef  Probability coef\n",
       "0                       age   5.018449       1.613121          0.833844\n",
       "1              hypertension   1.283438       0.249543          0.562064\n",
       "2             heart_disease   1.527140       0.423396          0.604296\n",
       "3              ever_married   0.828644      -0.187965          0.453147\n",
       "4            Residence_type   0.980405      -0.019790          0.495053\n",
       "5         avg_glucose_level   1.274811       0.242798          0.560403\n",
       "6                       bmi   1.118171       0.111694          0.527894\n",
       "7     smoking_status_smokes   1.342612       0.294617          0.573126\n",
       "8   smoking_status_formerly   1.156817       0.145672          0.536354\n",
       "9               reg_to_vote   0.941835      -0.059925          0.485023\n",
       "10                dog_owner   1.015539       0.015419          0.503855\n",
       "11        raccoons_to_fight   0.989708      -0.010345          0.497414\n",
       "12   fast_food_budget_month   2.031054       0.708555          0.670082\n",
       "13              income_in_k   1.134348       0.126058          0.531473\n",
       "14                er_visits   1.058398       0.056757          0.514185"
      ]
     },
     "execution_count": 17,
     "metadata": {},
     "output_type": "execute_result"
    }
   ],
   "source": [
    "# Create a new data frame of the coefficients of the linear model\n",
    "coef = pd.DataFrame({ \"Names\" : predictors, \n",
    "                     \"ODDS coef\" : np.exp(logrnew.coef_[0]), \n",
    "                     \"Log-odds coef\" : logrnew.coef_[0],\n",
    "                     \"Probability coef\" : np.exp(logrnew.coef_[0]) / (1 + np.exp(logrnew.coef_[0]))\n",
    "                     })\n",
    "\n",
    "#coef = coef.append({ \"Coef\" : logrnew.intercept_, \"Names\" : \"intercept\"}, ignore_index = True)\n",
    "\n",
    "coef"
   ]
  },
  {
   "cell_type": "markdown",
   "metadata": {},
   "source": [
    "4. print out a confusion matrix for the model you made in part 3. **What does this confusion matrix tell you about your model? How can you tell?**"
   ]
  },
  {
   "cell_type": "code",
   "execution_count": 18,
   "metadata": {},
   "outputs": [],
   "source": [
    "# Create predicted outcomes from the Logistical Regression\n",
    "y_predicted = logrnew.predict(X)"
   ]
  },
  {
   "cell_type": "code",
   "execution_count": 19,
   "metadata": {},
   "outputs": [
    {
     "data": {
      "text/plain": [
       "array([[13635,    11],\n",
       "       [  552,    24]], dtype=int64)"
      ]
     },
     "execution_count": 19,
     "metadata": {},
     "output_type": "execute_result"
    }
   ],
   "source": [
    "# print the confusion matrix of the logistical regression model\n",
    "confusion_matrix(y, y_predicted)"
   ]
  },
  {
   "cell_type": "code",
   "execution_count": 20,
   "metadata": {},
   "outputs": [
    {
     "data": {
      "text/plain": [
       "<sklearn.metrics._plot.confusion_matrix.ConfusionMatrixDisplay at 0x2987f345bb0>"
      ]
     },
     "execution_count": 20,
     "metadata": {},
     "output_type": "execute_result"
    },
    {
     "data": {
      "image/png": "[encoded data removed]",
      "text/plain": [
       "<Figure size 432x288 with 2 Axes>"
      ]
     },
     "metadata": {
      "needs_background": "light"
     },
     "output_type": "display_data"
    }
   ],
   "source": [
    "plot_confusion_matrix(logrnew, X, y)"
   ]
  },
  {
   "cell_type": "markdown",
   "metadata": {},
   "source": [
    "#### Comment of Confusion Matrix"
   ]
  },
  {
   "cell_type": "markdown",
   "metadata": {},
   "source": [
    "The Confusion Matrix tells me that our logistic regression model is fairly accurate overall. \n",
    "\n",
    "In the upperleft corner we have the times where our model predicted that a person did **not** have a stroke an the actual data confirmed that the patient did **not** have a stroke. As we can see the number is fairly large when compaired to the other three corners. Additionally, the amount of times our model predicted that a patient did have a stroke and the data showed that the patient did **not** have a stroke (the upper right corner) is extremely low, so our model had relatively few false positives. This is good in general, however if we look at the lower left and right corners we see some concerning results. \n",
    "\n",
    "The lower left corner is where our model predicted that the patient would not have a stroke and the patient **did** have a stroke according to the data. The fact that this is a number above zero is concerning but no model is perfect, however, it is fairly large compared two the left column of the confusion matrix. The size of this number is concerning because it means our model predicted that a patient would not have a stroke and the data shows that the pacient did have a stroke. The bigger this number is in the lower left the more inaccurate our model is, therefore we would like to see a smaller number relative to the other corners. \n",
    "\n",
    "The lower right corner is where our model predicted the patient would have a stroke and the patient did had a stroke according to the data. Although the number in this corner is above zero it is still extremely small especially compared to the false negative in the lower left corner. Ideally we would like to see the size of these two numbers in the lower half of the matrix reversed, meaning our model was more accurate at predicting a patient would have a stroke verses being inaccurate about when a patient had a stroke.\n",
    "\n",
    "Overall the model with no cross validation is doing fairly well but there are certianly areas for improvement. "
   ]
  },
  {
   "cell_type": "markdown",
   "metadata": {},
   "source": [
    "## PART II"
   ]
  },
  {
   "cell_type": "markdown",
   "metadata": {},
   "source": [
    "## Part II: Data Exploration\n",
    "The WHO has asked the following five questions, create **at least 1 ggplot graph** (using the above data + model when needed) to help answer each question, and **explicitly answer the question in a Markdown cell** below your graph. You may use other calculations to help support your answer but MUST pair it with a graph. Write your answer as if you were explaining it to a non-data scientist. You will be graded on the effectiveness and clarity of your graph, as well as the completeness, clarity, and correctness of your responses and justifications."
   ]
  },
  {
   "cell_type": "markdown",
   "metadata": {},
   "source": [
    "1. Do dog-ownders over 50 have a higher probability of stoke than non-dog owners who currently smoke? How can you tell?"
   ]
  },
  {
   "cell_type": "code",
   "execution_count": 21,
   "metadata": {},
   "outputs": [],
   "source": [
    "# Create a new data frame with a column of dog-owners over 50\n",
    "dog = (DF[\"dog_owner\"] == True) & (DF[\"age\"] > 50)\n",
    "DFdog = DF.copy()\n",
    "DFdog[\"Dog_owner_over_50\"] = dog\n",
    "# DFdog"
   ]
  },
  {
   "cell_type": "code",
   "execution_count": 22,
   "metadata": {},
   "outputs": [
    {
     "data": {
      "text/plain": [
       "0.53125"
      ]
     },
     "execution_count": 22,
     "metadata": {},
     "output_type": "execute_result"
    }
   ],
   "source": [
    "# Identify the probability that a dog owner over 50 will have a stroke\n",
    "prob_dog_over50 = ((DF[dog][\"stroke\"]).sum()) / ((DF[\"stroke\"]).sum()) # number of dog owners over 50 who had a stroke / Total number of people who had a stroke\n",
    "prob_dog_over50"
   ]
  },
  {
   "cell_type": "code",
   "execution_count": 23,
   "metadata": {},
   "outputs": [
    {
     "data": {
      "image/png": "[encoded data removed]",
      "text/plain": [
       "<Figure size 640x480 with 1 Axes>"
      ]
     },
     "metadata": {
      "needs_background": "light"
     },
     "output_type": "display_data"
    },
    {
     "data": {
      "text/plain": [
       "<ggplot: (178291552997)>"
      ]
     },
     "execution_count": 23,
     "metadata": {},
     "output_type": "execute_result"
    }
   ],
   "source": [
    "(ggplot(DFdog[dog], aes(x = \"stroke\")) + geom_bar(fill = \"blue\") \n",
    " + scale_x_continuous(breaks = [0,1], labels = [\"Has Not had a Stroke\", \"Had a Stroke\"])\n",
    "#  + facet_wrap(\"~Dog_owner_over_50\")\n",
    " + theme_minimal()\n",
    " + ggtitle(\"Bargraph of Dog Owners Over Fifty\")\n",
    " + geom_text(\n",
    "     aes(label=after_stat('prop*100')),\n",
    "     stat='count',\n",
    "     nudge_y=0.125,\n",
    "     va='bottom',\n",
    "     format_string='{:.1f}% '\n",
    " )\n",
    ")\n"
   ]
  },
  {
   "cell_type": "code",
   "execution_count": 24,
   "metadata": {},
   "outputs": [],
   "source": [
    "# Create a new data frame with a column of dog-owners over 50\n",
    "smokes = (DF[\"dog_owner\"] == False) & (DF[\"smoking_status_smokes\"] == True)\n",
    "DFsmokes = DF.copy()\n",
    "DFsmokes[\"smokes_noDog\"] = smokes\n",
    "# DFsmokes"
   ]
  },
  {
   "cell_type": "code",
   "execution_count": 25,
   "metadata": {},
   "outputs": [
    {
     "data": {
      "text/plain": [
       "0.05555555555555555"
      ]
     },
     "execution_count": 25,
     "metadata": {},
     "output_type": "execute_result"
    }
   ],
   "source": [
    "prob_smoker_nodog = ((DFsmokes[smokes][\"stroke\"] == 1).sum()) / ((DF[\"stroke\"] == 1).sum())\n",
    "prob_smoker_nodog "
   ]
  },
  {
   "cell_type": "code",
   "execution_count": 26,
   "metadata": {},
   "outputs": [
    {
     "data": {
      "image/png": "[encoded data removed]",
      "text/plain": [
       "<Figure size 640x480 with 1 Axes>"
      ]
     },
     "metadata": {
      "needs_background": "light"
     },
     "output_type": "display_data"
    },
    {
     "data": {
      "text/plain": [
       "<ggplot: (178291536116)>"
      ]
     },
     "execution_count": 26,
     "metadata": {},
     "output_type": "execute_result"
    }
   ],
   "source": [
    "(ggplot(DFsmokes[smokes], aes(x = \"stroke\")) + geom_bar(fill = \"red\") \n",
    " + scale_x_continuous(breaks = [0,1], labels = [\"Has Not had a Stroke\", \"Had a Stroke\"])\n",
    " #+ facet_wrap(\"~smokes_noDog\")\n",
    " + theme_minimal()\n",
    " + ggtitle(\"Smokers Who Do Not Own Dogs\")\n",
    " #+ stat_summary(geom = \"bar\") \n",
    " + geom_text(\n",
    "     aes(label=after_stat('prop*100')),\n",
    "     stat='count',\n",
    "     nudge_y=0.125,\n",
    "     va='bottom',\n",
    "     format_string='{:.1f}% '\n",
    " )\n",
    ")"
   ]
  },
  {
   "cell_type": "markdown",
   "metadata": {},
   "source": [
    "#### Do dog-ownders over 50 have a higher probability of stoke than non-dog owners who currently smoke? How can you tell?"
   ]
  },
  {
   "cell_type": "markdown",
   "metadata": {},
   "source": [
    "From the above graphs of *Dog Owners Over 50 vs. Stroke* and *Smokers Who Do Not Own Dogs vs. Stroke* we can see that the amount of both dog owners over 50 and smokers who do not own dogs that **did not** a have a stroke is fairly large compared to the amount of dog owners over 50 and smokers who do not own dogs who **did** had a stroke. However, calculating the percentages of having a stroke between the two types of people (dog owners over 50 and smokers who do not own dogs) we see that dog owners over 50 have a higher percentage of having a stroke than smokers who do not own a dog with a 53.125 percent chance of having a stroke for dog owners over 50 versus a 5.555 percent chance of having a stroke for smokers who do not own dogs. "
   ]
  },
  {
   "cell_type": "markdown",
   "metadata": {},
   "source": [
    "2. What is the relationship between average blood glucose and BMI? Is the relationship between those two variables different for people who are and are not registered to vote? How can you tell?\n"
   ]
  },
  {
   "cell_type": "code",
   "execution_count": 27,
   "metadata": {},
   "outputs": [
    {
     "data": {
      "image/png": "[encoded data removed]",
      "text/plain": [
       "<Figure size 640x480 with 1 Axes>"
      ]
     },
     "metadata": {
      "needs_background": "light"
     },
     "output_type": "display_data"
    },
    {
     "data": {
      "text/plain": [
       "<ggplot: (178291798086)>"
      ]
     },
     "execution_count": 27,
     "metadata": {},
     "output_type": "execute_result"
    }
   ],
   "source": [
    "# Create a plot of the average glucose level vs the body mass index\n",
    "(ggplot(DF, aes(x = \"avg_glucose_level\", y = \"bmi\")) + geom_point()\n",
    " + theme_minimal()\n",
    " + stat_smooth(color = \"red\")\n",
    " + ggtitle(\"Average Glucose Level vs. Body Mass Index (BMI)\")\n",
    " + labs(x = \"Average Glucose Level\", y = \"Body Mass Index (BMI)\")\n",
    ")"
   ]
  },
  {
   "cell_type": "code",
   "execution_count": 28,
   "metadata": {},
   "outputs": [
    {
     "data": {
      "image/png": "[encoded data removed]",
      "text/plain": [
       "<Figure size 640x480 with 2 Axes>"
      ]
     },
     "metadata": {
      "needs_background": "light"
     },
     "output_type": "display_data"
    },
    {
     "data": {
      "text/plain": [
       "<ggplot: (178292243643)>"
      ]
     },
     "execution_count": 28,
     "metadata": {},
     "output_type": "execute_result"
    }
   ],
   "source": [
    "# Create a plot of the average glucose level vs the body mass index but split the results by registered to vote \n",
    "(ggplot(DF, aes(x = \"avg_glucose_level\", y = \"bmi\")) + geom_point()\n",
    " + theme_minimal()\n",
    " + stat_smooth(color = \"red\")\n",
    " + facet_wrap(\"~reg_to_vote\", labeller = \"label_both\")\n",
    " + ggtitle(\"Average Glucose Level vs. Body Mass Index (BMI) of Voters and non-Voters\")\n",
    " + labs(x = \"Average Glucose Level\", y = \"Body Mass Index (BMI)\")\n",
    ")"
   ]
  },
  {
   "cell_type": "markdown",
   "metadata": {},
   "source": [
    "#### Relationship between Average Glucose Level and Body Mass Index"
   ]
  },
  {
   "cell_type": "markdown",
   "metadata": {},
   "source": [
    "From the *Average Glucose Level vs. Body Mass Index (BMI)* plot above we can see that there appears a *roughly* linear relationship between the average glucose level and bmi. The red line indicates the caculated smoothed conditional mean of the data set, since the mean of the dataset appears to be roughly increasing linearly the red line takes the form of a straight line that is increasing over the average glucose level. From the *Average Glucose Level vs. Body Mass Index (BMI) of Voters and non-Voters* plot above we see that the trend identified in the *Average Glucose Level vs. Body Mass Index (BMI)* continues for both registered voters and  non-registered voters."
   ]
  },
  {
   "cell_type": "markdown",
   "metadata": {},
   "source": [
    "3. Is your logistic regression model most accurate for people who make less than 30k, between 30-90k, or over 100k? Discuss the potential accuracy *and* ethical implications if your model *were* more accurate for different groups (you can use the full model from part I-3 to check accuracy)."
   ]
  },
  {
   "cell_type": "markdown",
   "metadata": {},
   "source": [
    "## Income less than 30,000"
   ]
  },
  {
   "cell_type": "code",
   "execution_count": 29,
   "metadata": {},
   "outputs": [],
   "source": [
    "# Less than 30k Logistic Regression model\n",
    "income_less30 = DF[\"income_in_k\"] < 30.0\n",
    "DFless30 = DF[income_less30].copy()\n",
    "DFless30.reset_index(inplace= True)\n",
    "DFless30 = DFless30.drop(columns = [\"index\"])"
   ]
  },
  {
   "cell_type": "code",
   "execution_count": 30,
   "metadata": {},
   "outputs": [
    {
     "data": {
      "text/plain": [
       "0.9958333333333333"
      ]
     },
     "execution_count": 30,
     "metadata": {},
     "output_type": "execute_result"
    }
   ],
   "source": [
    "KF10_NOFIT(DFless30, \"acc_test_mean\")"
   ]
  },
  {
   "cell_type": "code",
   "execution_count": 31,
   "metadata": {},
   "outputs": [],
   "source": [
    "# Set predictor and outcome variables\n",
    "Xless30 = DFless30[predictors]\n",
    "yless30 = DFless30[\"stroke\"]\n",
    "\n",
    "# Create KFold object with 10 folds \n",
    "KF = KFold(n_splits = 10)\n",
    "\n",
    "acc_less30train = []\n",
    "acc_less30test = []\n",
    "\n",
    "\n",
    "# Use a for loop to loop through each fold and then train the model and finally record the accuracy\n",
    "for train, test in KF.split(Xless30):\n",
    "    Xless30_train = Xless30.iloc[train]\n",
    "    Xless30_test = Xless30.iloc[test]\n",
    "    yless30_train = yless30[train]\n",
    "    yless30_test = yless30[test]\n",
    "    \n",
    "    # append the accuracy score of each fold\n",
    "    acc_less30train.append(accuracy_score(yless30_train, logr.predict(Xless30_train)))\n",
    "\n",
    "        # append the accuracy score of each fold\n",
    "    acc_less30test.append(accuracy_score(yless30_test, logr.predict(Xless30_test)))"
   ]
  },
  {
   "cell_type": "code",
   "execution_count": 64,
   "metadata": {},
   "outputs": [
    {
     "data": {
      "image/png": "[encoded data removed]",
      "text/plain": [
       "<Figure size 640x480 with 1 Axes>"
      ]
     },
     "metadata": {
      "needs_background": "light"
     },
     "output_type": "display_data"
    },
    {
     "data": {
      "text/plain": [
       "<ggplot: (178291773450)>"
      ]
     },
     "execution_count": 64,
     "metadata": {},
     "output_type": "execute_result"
    }
   ],
   "source": [
    "acc30 = pd.DataFrame({\"acc\" : acc_less30test})\n",
    "(ggplot(acc30, aes(x = \"acc\")) + geom_histogram(fill = \"orange\") + theme_minimal()\n",
    " + labs(x = \"Accuracy Score\")\n",
    " + ggtitle(\"Accuracy of Logistic Model for Income less than 30,000\")\n",
    " + geom_vline(xintercept = np.mean(acc_less30test), linetype = \"dashed\", size = 2)\n",
    ")"
   ]
  },
  {
   "cell_type": "markdown",
   "metadata": {},
   "source": [
    "## Income between 30,000 and 90,000"
   ]
  },
  {
   "cell_type": "code",
   "execution_count": 33,
   "metadata": {},
   "outputs": [],
   "source": [
    "# Between 30k and 90k Logistic Regression model\n",
    "income_30through90 = (DF[\"income_in_k\"] > 30.0) & (DF[\"income_in_k\"] < 90.0)\n",
    "DF30n90 = DF[income_30through90].copy()\n",
    "DF30n90.reset_index(inplace= True)\n",
    "DF30n90 = DF30n90.drop(columns = [\"index\"])\n",
    "# DF30n90\n",
    "# print(KF10_Log(DF30n90, \"r2\"))\n",
    "# KF10_Log(DF30n90, \"acc_test_mean\")"
   ]
  },
  {
   "cell_type": "code",
   "execution_count": 34,
   "metadata": {},
   "outputs": [
    {
     "data": {
      "text/plain": [
       "0.9600572709770185"
      ]
     },
     "execution_count": 34,
     "metadata": {},
     "output_type": "execute_result"
    }
   ],
   "source": [
    "KF10_NOFIT(DF30n90, \"acc_test_mean\")"
   ]
  },
  {
   "cell_type": "code",
   "execution_count": 35,
   "metadata": {},
   "outputs": [],
   "source": [
    "# Set predictor and outcome variables\n",
    "X30n90 = DF30n90[predictors]\n",
    "y30n90 = DF30n90[\"stroke\"]\n",
    "\n",
    "# Create KFold object with 10 folds \n",
    "KF = KFold(n_splits = 10)\n",
    "\n",
    "acc_30n90train = []\n",
    "acc_30n90test = []\n",
    "\n",
    "# Use a for loop to loop through each fold and then train the model and finally record the accuracy\n",
    "for train, test in KF.split(X30n90):\n",
    "    X30n90_train = X30n90.iloc[train]\n",
    "    X30n90_test = X30n90.iloc[test]\n",
    "    y30n90_train = y30n90[train]\n",
    "    y30n90_test = y30n90[test]\n",
    "    \n",
    "     # append the accuracy score of each fold\n",
    "    acc_30n90train.append(accuracy_score(y30n90_train, logr.predict(X30n90_train)))\n",
    "\n",
    "        # append the accuracy score of each fold\n",
    "    acc_30n90test.append(accuracy_score(y30n90_test, logr.predict(X30n90_test)))"
   ]
  },
  {
   "cell_type": "code",
   "execution_count": 65,
   "metadata": {},
   "outputs": [
    {
     "data": {
      "image/png": "[encoded data removed]",
      "text/plain": [
       "<Figure size 640x480 with 1 Axes>"
      ]
     },
     "metadata": {
      "needs_background": "light"
     },
     "output_type": "display_data"
    },
    {
     "data": {
      "text/plain": [
       "<ggplot: (178292234493)>"
      ]
     },
     "execution_count": 65,
     "metadata": {},
     "output_type": "execute_result"
    }
   ],
   "source": [
    "acc30n90 = pd.DataFrame({\"acc1\" : acc_30n90test})\n",
    "\n",
    "(ggplot(acc30n90, aes(x = \"acc1\")) + geom_histogram(fill = \"green\") + theme_minimal()\n",
    " + labs(x = \"Accuracy Score\")\n",
    " + ggtitle(\"Accuracy of Logistic Model for Income between 30,000 and 90,000\")\n",
    " + geom_vline(xintercept = np.mean(acc_30n90test), linetype = \"dashed\", size = 2)\n",
    ")"
   ]
  },
  {
   "cell_type": "markdown",
   "metadata": {},
   "source": [
    "## Income over 100,000"
   ]
  },
  {
   "cell_type": "code",
   "execution_count": 37,
   "metadata": {},
   "outputs": [],
   "source": [
    "# Over 100K Logistic Regression model\n",
    "income_greater100 = DF[\"income_in_k\"] > 100.0\n",
    "DF100 = DF[income_greater100].copy()\n",
    "DF100.reset_index(inplace= True)\n",
    "DF100 = DF100.drop(columns = [\"index\"])\n",
    "# DF100\n",
    "# print(KF10_Log(DF100, \"r2\"))\n",
    "# KF10_Log(DF100, \"acc_test_mean\")"
   ]
  },
  {
   "cell_type": "code",
   "execution_count": 38,
   "metadata": {},
   "outputs": [
    {
     "data": {
      "text/plain": [
       "0.9480532854959802"
      ]
     },
     "execution_count": 38,
     "metadata": {},
     "output_type": "execute_result"
    }
   ],
   "source": [
    "KF10_NOFIT(DF100, \"acc_test_mean\")"
   ]
  },
  {
   "cell_type": "code",
   "execution_count": 39,
   "metadata": {},
   "outputs": [],
   "source": [
    "# Set predictor and outcome variables\n",
    "X100 = DF100[predictors]\n",
    "y100 = DF100[\"stroke\"]\n",
    "\n",
    "# Create KFold object with 10 folds \n",
    "KF = KFold(n_splits = 10)\n",
    "\n",
    "acc_100train = []\n",
    "acc_100test = []\n",
    "\n",
    "# Use a for loop to loop through each fold and then train the model and finally record the accuracy\n",
    "for train, test in KF.split(X100):\n",
    "    X100_train = X100.iloc[train]\n",
    "    X100_test = X100.iloc[test]\n",
    "    y100_train = y100[train]\n",
    "    y100_test = y100[test]\n",
    "    \n",
    "     # append the accuracy score of each fold\n",
    "    acc_100train.append(accuracy_score(y100_train, logr.predict(X100_train)))\n",
    "\n",
    "        # append the accuracy score of each fold\n",
    "    acc_100test.append(accuracy_score(y100_test, logr.predict(X100_test)))"
   ]
  },
  {
   "cell_type": "code",
   "execution_count": 68,
   "metadata": {},
   "outputs": [
    {
     "data": {
      "image/png": "[encoded data removed]",
      "text/plain": [
       "<Figure size 640x480 with 1 Axes>"
      ]
     },
     "metadata": {
      "needs_background": "light"
     },
     "output_type": "display_data"
    },
    {
     "data": {
      "text/plain": [
       "<ggplot: (178292079430)>"
      ]
     },
     "execution_count": 68,
     "metadata": {},
     "output_type": "execute_result"
    }
   ],
   "source": [
    "acc100 = pd.DataFrame({\"acc1\" : acc_100test})\n",
    "\n",
    "(ggplot(acc100, aes(x = \"acc1\")) + geom_histogram(fill = \"purple\") + theme_minimal()\n",
    " + labs(x = \"Accuracy Score\")\n",
    " + ggtitle(\"Accuracy of Logistic Model for Income 100,000 and Above\")\n",
    " + geom_vline(xintercept = np.mean(acc_100test), linetype = \"dashed\", size = 2)\n",
    ")"
   ]
  },
  {
   "cell_type": "markdown",
   "metadata": {},
   "source": [
    "#### Is your logistic regression model most accurate for people who make less than 30k, between 30-90k, or over 100k? Discuss the potential accuracy *and* ethical implications if your model *were* more accurate for different groups."
   ]
  },
  {
   "cell_type": "markdown",
   "metadata": {},
   "source": [
    "As it turns out my logistic regression model is most accurate for incomes 30,000 or less. However, looking at the mean accuracy scores for each of the income groups it appears that the difference in accuracy is not large between the income groups. If there was a large, or distinct, difference in the accuracy of my model among the income groups I would question if my results were reached because the data I used has more data from the income group with the highest accuracy score. Having more data for a specific income group is most likely the reason why my model is more accurate for that specific income group. Unfortunately, this means that most people in this income group have more health issues than other groups. Ethically, having a more accurate model for a certian income group is concerning to me because achieving a more accurate model for a specific income group means that the data collected has some internal biases that have skewed my data. In order to get a more accurate model over a broader population I need a broader sample. It is indeed helpful that my model can predict fairly accurate results for the health of a certain income group, but it is limited and therefore cannot be used for to help other people who do not fall in the specific predictive parameter. \n"
   ]
  },
  {
   "cell_type": "markdown",
   "metadata": {},
   "source": [
    "4. Which of the following variables is the strongest predictor of having a stroke (owning a dog, residence type, marriage, being registered to vote)? How were you able to tell?"
   ]
  },
  {
   "cell_type": "code",
   "execution_count": 41,
   "metadata": {},
   "outputs": [
    {
     "data": {
      "text/html": [
       "<div>\n",
       "<style scoped>\n",
       "    .dataframe tbody tr th:only-of-type {\n",
       "        vertical-align: middle;\n",
       "    }\n",
       "\n",
       "    .dataframe tbody tr th {\n",
       "        vertical-align: top;\n",
       "    }\n",
       "\n",
       "    .dataframe thead th {\n",
       "        text-align: right;\n",
       "    }\n",
       "</style>\n",
       "<table border=\"1\" class=\"dataframe\">\n",
       "  <thead>\n",
       "    <tr style=\"text-align: right;\">\n",
       "      <th></th>\n",
       "      <th>Names</th>\n",
       "      <th>ODDS coef</th>\n",
       "      <th>Log-odds coef</th>\n",
       "      <th>Probability coef</th>\n",
       "    </tr>\n",
       "  </thead>\n",
       "  <tbody>\n",
       "    <tr>\n",
       "      <th>3</th>\n",
       "      <td>ever_married</td>\n",
       "      <td>0.828644</td>\n",
       "      <td>-0.187965</td>\n",
       "      <td>0.453147</td>\n",
       "    </tr>\n",
       "    <tr>\n",
       "      <th>4</th>\n",
       "      <td>Residence_type</td>\n",
       "      <td>0.980405</td>\n",
       "      <td>-0.019790</td>\n",
       "      <td>0.495053</td>\n",
       "    </tr>\n",
       "    <tr>\n",
       "      <th>9</th>\n",
       "      <td>reg_to_vote</td>\n",
       "      <td>0.941835</td>\n",
       "      <td>-0.059925</td>\n",
       "      <td>0.485023</td>\n",
       "    </tr>\n",
       "    <tr>\n",
       "      <th>10</th>\n",
       "      <td>dog_owner</td>\n",
       "      <td>1.015539</td>\n",
       "      <td>0.015419</td>\n",
       "      <td>0.503855</td>\n",
       "    </tr>\n",
       "  </tbody>\n",
       "</table>\n",
       "</div>"
      ],
      "text/plain": [
       "             Names  ODDS coef  Log-odds coef  Probability coef\n",
       "3     ever_married   0.828644      -0.187965          0.453147\n",
       "4   Residence_type   0.980405      -0.019790          0.495053\n",
       "9      reg_to_vote   0.941835      -0.059925          0.485023\n",
       "10       dog_owner   1.015539       0.015419          0.503855"
      ]
     },
     "execution_count": 41,
     "metadata": {},
     "output_type": "execute_result"
    }
   ],
   "source": [
    "coef.iloc[[3,4, 9,10]]"
   ]
  },
  {
   "cell_type": "code",
   "execution_count": 42,
   "metadata": {},
   "outputs": [
    {
     "data": {
      "image/png": "[encoded data removed]",
      "text/plain": [
       "<Figure size 640x480 with 1 Axes>"
      ]
     },
     "metadata": {
      "needs_background": "light"
     },
     "output_type": "display_data"
    },
    {
     "data": {
      "text/plain": [
       "<ggplot: (178291531734)>"
      ]
     },
     "execution_count": 42,
     "metadata": {},
     "output_type": "execute_result"
    }
   ],
   "source": [
    "(ggplot(coef.iloc[[3,4, 9,10]], aes(x = \"Names\", y = \"ODDS coef\", fill = \"Names\", color = \"Names\")) + geom_point(size = .1)\n",
    "+ theme_minimal()\n",
    "+ stat_summary(geom = \"bar\")\n",
    ")"
   ]
  },
  {
   "cell_type": "markdown",
   "metadata": {},
   "source": [
    "#### Which of the following variables is the strongest predictor of having a stroke (owning a dog, residence type, marriage, being registered to vote)? How were you able to tell?"
   ]
  },
  {
   "cell_type": "markdown",
   "metadata": {},
   "source": [
    "The strongest predictor between *owning a dog, residence type, marriage,* and *registered to vote* is *owning a dog* (dog_owner variable) because the odds value of the dog owner predictor variable is the highest value of the odds coefficient between the 4 predictors."
   ]
  },
  {
   "cell_type": "markdown",
   "metadata": {},
   "source": [
    "5. Create a variable `er_visits_per_year` that calculates the # of visits to the ER that a person has had per year of life. Store this variable in your data frame (no need to include this variable in the previous logistic regression model). Is the # of ER visits per year different for stroke and non-stroke patients? How can you tell?"
   ]
  },
  {
   "cell_type": "code",
   "execution_count": 43,
   "metadata": {},
   "outputs": [
    {
     "data": {
      "text/plain": [
       "0        0.150000\n",
       "1        1.250000\n",
       "2        0.103896\n",
       "3        0.216216\n",
       "4        0.250000\n",
       "           ...   \n",
       "14995    0.173077\n",
       "14996    0.285714\n",
       "14997    0.400000\n",
       "14998    0.077922\n",
       "14999    0.090909\n",
       "Length: 14222, dtype: float64"
      ]
     },
     "execution_count": 43,
     "metadata": {},
     "output_type": "execute_result"
    }
   ],
   "source": [
    "er_visits_per_year = DF[\"er_visits\"]/DF[\"age\"]\n",
    "er_visits_per_year"
   ]
  },
  {
   "cell_type": "code",
   "execution_count": 44,
   "metadata": {},
   "outputs": [
    {
     "data": {
      "text/html": [
       "<div>\n",
       "<style scoped>\n",
       "    .dataframe tbody tr th:only-of-type {\n",
       "        vertical-align: middle;\n",
       "    }\n",
       "\n",
       "    .dataframe tbody tr th {\n",
       "        vertical-align: top;\n",
       "    }\n",
       "\n",
       "    .dataframe thead th {\n",
       "        text-align: right;\n",
       "    }\n",
       "</style>\n",
       "<table border=\"1\" class=\"dataframe\">\n",
       "  <thead>\n",
       "    <tr style=\"text-align: right;\">\n",
       "      <th></th>\n",
       "      <th>age</th>\n",
       "      <th>hypertension</th>\n",
       "      <th>heart_disease</th>\n",
       "      <th>ever_married</th>\n",
       "      <th>Residence_type</th>\n",
       "      <th>avg_glucose_level</th>\n",
       "      <th>bmi</th>\n",
       "      <th>stroke</th>\n",
       "      <th>smoking_status_smokes</th>\n",
       "      <th>smoking_status_formerly</th>\n",
       "      <th>reg_to_vote</th>\n",
       "      <th>dog_owner</th>\n",
       "      <th>raccoons_to_fight</th>\n",
       "      <th>fast_food_budget_month</th>\n",
       "      <th>income_in_k</th>\n",
       "      <th>er_visits</th>\n",
       "      <th>er_visits_per_year</th>\n",
       "    </tr>\n",
       "  </thead>\n",
       "  <tbody>\n",
       "    <tr>\n",
       "      <th>0</th>\n",
       "      <td>60.0</td>\n",
       "      <td>1.0</td>\n",
       "      <td>0.0</td>\n",
       "      <td>0.0</td>\n",
       "      <td>1.0</td>\n",
       "      <td>73.00</td>\n",
       "      <td>25.2</td>\n",
       "      <td>0</td>\n",
       "      <td>1</td>\n",
       "      <td>0</td>\n",
       "      <td>1.0</td>\n",
       "      <td>1.0</td>\n",
       "      <td>10.0</td>\n",
       "      <td>209.19</td>\n",
       "      <td>51.553645</td>\n",
       "      <td>9.0</td>\n",
       "      <td>0.150000</td>\n",
       "    </tr>\n",
       "    <tr>\n",
       "      <th>1</th>\n",
       "      <td>4.0</td>\n",
       "      <td>0.0</td>\n",
       "      <td>0.0</td>\n",
       "      <td>0.0</td>\n",
       "      <td>0.0</td>\n",
       "      <td>110.15</td>\n",
       "      <td>17.1</td>\n",
       "      <td>0</td>\n",
       "      <td>0</td>\n",
       "      <td>0</td>\n",
       "      <td>0.0</td>\n",
       "      <td>1.0</td>\n",
       "      <td>13.0</td>\n",
       "      <td>176.46</td>\n",
       "      <td>45.405414</td>\n",
       "      <td>5.0</td>\n",
       "      <td>1.250000</td>\n",
       "    </tr>\n",
       "    <tr>\n",
       "      <th>2</th>\n",
       "      <td>77.0</td>\n",
       "      <td>0.0</td>\n",
       "      <td>0.0</td>\n",
       "      <td>1.0</td>\n",
       "      <td>1.0</td>\n",
       "      <td>68.38</td>\n",
       "      <td>27.8</td>\n",
       "      <td>0</td>\n",
       "      <td>0</td>\n",
       "      <td>0</td>\n",
       "      <td>0.0</td>\n",
       "      <td>1.0</td>\n",
       "      <td>6.0</td>\n",
       "      <td>213.00</td>\n",
       "      <td>94.865174</td>\n",
       "      <td>8.0</td>\n",
       "      <td>0.103896</td>\n",
       "    </tr>\n",
       "    <tr>\n",
       "      <th>3</th>\n",
       "      <td>37.0</td>\n",
       "      <td>0.0</td>\n",
       "      <td>0.0</td>\n",
       "      <td>1.0</td>\n",
       "      <td>1.0</td>\n",
       "      <td>95.08</td>\n",
       "      <td>30.1</td>\n",
       "      <td>0</td>\n",
       "      <td>0</td>\n",
       "      <td>0</td>\n",
       "      <td>1.0</td>\n",
       "      <td>1.0</td>\n",
       "      <td>12.0</td>\n",
       "      <td>161.90</td>\n",
       "      <td>84.123775</td>\n",
       "      <td>8.0</td>\n",
       "      <td>0.216216</td>\n",
       "    </tr>\n",
       "    <tr>\n",
       "      <th>4</th>\n",
       "      <td>44.0</td>\n",
       "      <td>0.0</td>\n",
       "      <td>0.0</td>\n",
       "      <td>0.0</td>\n",
       "      <td>0.0</td>\n",
       "      <td>103.78</td>\n",
       "      <td>40.9</td>\n",
       "      <td>0</td>\n",
       "      <td>1</td>\n",
       "      <td>0</td>\n",
       "      <td>1.0</td>\n",
       "      <td>1.0</td>\n",
       "      <td>11.0</td>\n",
       "      <td>261.29</td>\n",
       "      <td>74.794596</td>\n",
       "      <td>11.0</td>\n",
       "      <td>0.250000</td>\n",
       "    </tr>\n",
       "    <tr>\n",
       "      <th>...</th>\n",
       "      <td>...</td>\n",
       "      <td>...</td>\n",
       "      <td>...</td>\n",
       "      <td>...</td>\n",
       "      <td>...</td>\n",
       "      <td>...</td>\n",
       "      <td>...</td>\n",
       "      <td>...</td>\n",
       "      <td>...</td>\n",
       "      <td>...</td>\n",
       "      <td>...</td>\n",
       "      <td>...</td>\n",
       "      <td>...</td>\n",
       "      <td>...</td>\n",
       "      <td>...</td>\n",
       "      <td>...</td>\n",
       "      <td>...</td>\n",
       "    </tr>\n",
       "    <tr>\n",
       "      <th>14995</th>\n",
       "      <td>52.0</td>\n",
       "      <td>1.0</td>\n",
       "      <td>0.0</td>\n",
       "      <td>0.0</td>\n",
       "      <td>1.0</td>\n",
       "      <td>106.22</td>\n",
       "      <td>29.0</td>\n",
       "      <td>0</td>\n",
       "      <td>0</td>\n",
       "      <td>0</td>\n",
       "      <td>0.0</td>\n",
       "      <td>0.0</td>\n",
       "      <td>1.0</td>\n",
       "      <td>179.77</td>\n",
       "      <td>74.826197</td>\n",
       "      <td>9.0</td>\n",
       "      <td>0.173077</td>\n",
       "    </tr>\n",
       "    <tr>\n",
       "      <th>14996</th>\n",
       "      <td>56.0</td>\n",
       "      <td>0.0</td>\n",
       "      <td>0.0</td>\n",
       "      <td>1.0</td>\n",
       "      <td>1.0</td>\n",
       "      <td>63.18</td>\n",
       "      <td>26.5</td>\n",
       "      <td>0</td>\n",
       "      <td>0</td>\n",
       "      <td>0</td>\n",
       "      <td>1.0</td>\n",
       "      <td>0.0</td>\n",
       "      <td>15.0</td>\n",
       "      <td>143.61</td>\n",
       "      <td>52.280949</td>\n",
       "      <td>16.0</td>\n",
       "      <td>0.285714</td>\n",
       "    </tr>\n",
       "    <tr>\n",
       "      <th>14997</th>\n",
       "      <td>60.0</td>\n",
       "      <td>1.0</td>\n",
       "      <td>0.0</td>\n",
       "      <td>1.0</td>\n",
       "      <td>0.0</td>\n",
       "      <td>100.20</td>\n",
       "      <td>28.6</td>\n",
       "      <td>0</td>\n",
       "      <td>0</td>\n",
       "      <td>0</td>\n",
       "      <td>0.0</td>\n",
       "      <td>1.0</td>\n",
       "      <td>17.0</td>\n",
       "      <td>64.87</td>\n",
       "      <td>92.427118</td>\n",
       "      <td>24.0</td>\n",
       "      <td>0.400000</td>\n",
       "    </tr>\n",
       "    <tr>\n",
       "      <th>14998</th>\n",
       "      <td>77.0</td>\n",
       "      <td>0.0</td>\n",
       "      <td>0.0</td>\n",
       "      <td>1.0</td>\n",
       "      <td>0.0</td>\n",
       "      <td>90.00</td>\n",
       "      <td>32.0</td>\n",
       "      <td>0</td>\n",
       "      <td>0</td>\n",
       "      <td>0</td>\n",
       "      <td>0.0</td>\n",
       "      <td>0.0</td>\n",
       "      <td>11.0</td>\n",
       "      <td>205.92</td>\n",
       "      <td>53.042139</td>\n",
       "      <td>6.0</td>\n",
       "      <td>0.077922</td>\n",
       "    </tr>\n",
       "    <tr>\n",
       "      <th>14999</th>\n",
       "      <td>44.0</td>\n",
       "      <td>0.0</td>\n",
       "      <td>0.0</td>\n",
       "      <td>1.0</td>\n",
       "      <td>0.0</td>\n",
       "      <td>74.91</td>\n",
       "      <td>26.9</td>\n",
       "      <td>0</td>\n",
       "      <td>0</td>\n",
       "      <td>0</td>\n",
       "      <td>0.0</td>\n",
       "      <td>0.0</td>\n",
       "      <td>8.0</td>\n",
       "      <td>184.14</td>\n",
       "      <td>70.317707</td>\n",
       "      <td>4.0</td>\n",
       "      <td>0.090909</td>\n",
       "    </tr>\n",
       "  </tbody>\n",
       "</table>\n",
       "<p>14222 rows × 17 columns</p>\n",
       "</div>"
      ],
      "text/plain": [
       "        age  hypertension  heart_disease  ever_married  Residence_type  \\\n",
       "0      60.0           1.0            0.0           0.0             1.0   \n",
       "1       4.0           0.0            0.0           0.0             0.0   \n",
       "2      77.0           0.0            0.0           1.0             1.0   \n",
       "3      37.0           0.0            0.0           1.0             1.0   \n",
       "4      44.0           0.0            0.0           0.0             0.0   \n",
       "...     ...           ...            ...           ...             ...   \n",
       "14995  52.0           1.0            0.0           0.0             1.0   \n",
       "14996  56.0           0.0            0.0           1.0             1.0   \n",
       "14997  60.0           1.0            0.0           1.0             0.0   \n",
       "14998  77.0           0.0            0.0           1.0             0.0   \n",
       "14999  44.0           0.0            0.0           1.0             0.0   \n",
       "\n",
       "       avg_glucose_level   bmi  stroke  smoking_status_smokes  \\\n",
       "0                  73.00  25.2       0                      1   \n",
       "1                 110.15  17.1       0                      0   \n",
       "2                  68.38  27.8       0                      0   \n",
       "3                  95.08  30.1       0                      0   \n",
       "4                 103.78  40.9       0                      1   \n",
       "...                  ...   ...     ...                    ...   \n",
       "14995             106.22  29.0       0                      0   \n",
       "14996              63.18  26.5       0                      0   \n",
       "14997             100.20  28.6       0                      0   \n",
       "14998              90.00  32.0       0                      0   \n",
       "14999              74.91  26.9       0                      0   \n",
       "\n",
       "       smoking_status_formerly  reg_to_vote  dog_owner  raccoons_to_fight  \\\n",
       "0                            0          1.0        1.0               10.0   \n",
       "1                            0          0.0        1.0               13.0   \n",
       "2                            0          0.0        1.0                6.0   \n",
       "3                            0          1.0        1.0               12.0   \n",
       "4                            0          1.0        1.0               11.0   \n",
       "...                        ...          ...        ...                ...   \n",
       "14995                        0          0.0        0.0                1.0   \n",
       "14996                        0          1.0        0.0               15.0   \n",
       "14997                        0          0.0        1.0               17.0   \n",
       "14998                        0          0.0        0.0               11.0   \n",
       "14999                        0          0.0        0.0                8.0   \n",
       "\n",
       "       fast_food_budget_month  income_in_k  er_visits  er_visits_per_year  \n",
       "0                      209.19    51.553645        9.0            0.150000  \n",
       "1                      176.46    45.405414        5.0            1.250000  \n",
       "2                      213.00    94.865174        8.0            0.103896  \n",
       "3                      161.90    84.123775        8.0            0.216216  \n",
       "4                      261.29    74.794596       11.0            0.250000  \n",
       "...                       ...          ...        ...                 ...  \n",
       "14995                  179.77    74.826197        9.0            0.173077  \n",
       "14996                  143.61    52.280949       16.0            0.285714  \n",
       "14997                   64.87    92.427118       24.0            0.400000  \n",
       "14998                  205.92    53.042139        6.0            0.077922  \n",
       "14999                  184.14    70.317707        4.0            0.090909  \n",
       "\n",
       "[14222 rows x 17 columns]"
      ]
     },
     "execution_count": 44,
     "metadata": {},
     "output_type": "execute_result"
    }
   ],
   "source": [
    "DFervisitperyear = DF.copy()\n",
    "DFervisitperyear[\"er_visits_per_year\"] = er_visits_per_year\n",
    "DFervisitperyear"
   ]
  },
  {
   "cell_type": "code",
   "execution_count": 45,
   "metadata": {},
   "outputs": [
    {
     "data": {
      "image/png": "[encoded data removed]",
      "text/plain": [
       "<Figure size 640x480 with 1 Axes>"
      ]
     },
     "metadata": {
      "needs_background": "light"
     },
     "output_type": "display_data"
    },
    {
     "data": {
      "text/plain": [
       "<ggplot: (178295065055)>"
      ]
     },
     "execution_count": 45,
     "metadata": {},
     "output_type": "execute_result"
    }
   ],
   "source": [
    "(ggplot(DF, aes(y = \"er_visits_per_year\", x = \"factor(stroke)\", color = \"factor(stroke)\")) + geom_point()\n",
    "#  + stat_summary(geom = \"bar\")\n",
    " + theme_minimal()\n",
    " + ggtitle(\"Number of ER Visits Between People Who Have and Have Not Had a Stroke\")\n",
    " + labs(x = \"Stroke\", y = \"Number of ER Visits Per Year\")\n",
    ")"
   ]
  },
  {
   "cell_type": "markdown",
   "metadata": {},
   "source": [
    "#### Is the # of ER visits per year different for stroke and non-stroke patients? How can you tell?"
   ]
  },
  {
   "cell_type": "markdown",
   "metadata": {},
   "source": [
    "From the *Number of ER Visits Between People Who Have and Have Not Had a Stroke* plot above we can see that there is a clear difference between people who had a stoke and people who have not had a stroke with reguards to the number of ER visits per year of the persons life. For people who have not had a stoke (0) the ER visits per year of life reaches upwards of 150 ER visits. However, for people who have had a stroke (1) the number of ER visits per year of life is barely above zero visits.  "
   ]
  }
 ],
 "metadata": {
  "hide_input": false,
  "kernelspec": {
   "display_name": "Python 3",
   "language": "python",
   "name": "python3"
  },
  "language_info": {
   "codemirror_mode": {
    "name": "ipython",
    "version": 3
   },
   "file_extension": ".py",
   "mimetype": "text/x-python",
   "name": "python",
   "nbconvert_exporter": "python",
   "pygments_lexer": "ipython3",
   "version": "3.8.3"
  },
  "toc": {
   "base_numbering": 1,
   "nav_menu": {},
   "number_sections": true,
   "sideBar": true,
   "skip_h1_title": false,
   "title_cell": "Table of Contents",
   "title_sidebar": "Contents",
   "toc_cell": false,
   "toc_position": {},
   "toc_section_display": true,
   "toc_window_display": false
  }
 },
 "nbformat": 4,
 "nbformat_minor": 4
}
