{
 "cells": [
  {
   "cell_type": "code",
   "execution_count": 1,
   "metadata": {},
   "outputs": [],
   "source": [
    "import warnings\n",
    "warnings.filterwarnings('ignore')\n",
    "\n",
    "import numpy as np\n",
    "import pandas as pd\n",
    "import tensorflow.keras as kb\n",
    "from tensorflow.keras import backend\n",
    "import tensorflow as tf\n",
    "from plotnine import *\n",
    "\n",
    "from sklearn.metrics import mean_squared_error, mean_absolute_error\n",
    "\n",
    "from sklearn.linear_model import LinearRegression # Linear Regression Model\n",
    "from sklearn.preprocessing import StandardScaler #Z-score variables\n",
    "\n",
    "from sklearn.model_selection import train_test_split # simple TT split cv\n",
    "from sklearn.model_selection import KFold # k-fold cv\n",
    "from sklearn.model_selection import LeaveOneOut #LOO cv\n"
   ]
  },
  {
   "cell_type": "markdown",
   "metadata": {},
   "source": [
    "# 0. Together\n",
    "\n",
    "Neural Networks are great. Their flexibility (layers...connections...activation functions...and more!) allows you to build complex models that can accurately model complex relationships between predictors and outcomes. But I want to caution you: Neural Networks aren't magic. I often see people using them unnecessarily, just because they sound cool. If you're going to use NN's, make sure they're the right tool for your problem.\n",
    "\n",
    "\n",
    "When building a neural network you need to think about 2 (main) things:\n",
    "\n",
    "1. The Structure of the model (nodes/connections/activation functions)\n",
    "2. The Loss Function (how do we measure how well our model is doing?)\n",
    "\n",
    "\n",
    "# 1. Building a Simple NN\n"
   ]
  },
  {
   "cell_type": "code",
   "execution_count": 2,
   "metadata": {},
   "outputs": [
    {
     "name": "stdout",
     "output_type": "stream",
     "text": [
      "(2553, 14)\n"
     ]
    }
   ],
   "source": [
    "df = pd.read_csv(\"https://raw.githubusercontent.com/cmparlettpelleriti/CPSC392ParlettPelleriti/master/Data/Music_data.csv\")\n",
    "feats = [\"danceability\", \"energy\", \"loudness\",\"acousticness\"]\n",
    "predict = \"valence\"\n",
    "\n",
    "print(df.shape)\n",
    "X = df[feats]\n",
    "y = df[predict]\n",
    "\n",
    "z = StandardScaler()\n",
    "\n",
    "X = z.fit_transform(X)"
   ]
  },
  {
   "cell_type": "markdown",
   "metadata": {},
   "source": [
    "the model below has the same shape as a simple linear regression, like we talked about in lecture. It has an input layer with 4 inputs (\"danceability\", \"energy\", \"loudness\",\"acousticness\"), and 1 output layer for \"valence\".\n",
    "\n",
    "<img src=\"https://drive.google.com/uc?export=view&id=16JR3yX1gs7oC1isJAaJixNkrnZmdOxn1\" width = 800px />"
   ]
  },
  {
   "cell_type": "code",
   "execution_count": 3,
   "metadata": {},
   "outputs": [
    {
     "name": "stdout",
     "output_type": "stream",
     "text": [
      "Epoch 1/100\n",
      "80/80 [==============================] - 1s 1ms/step - loss: 0.6697\n",
      "Epoch 2/100\n",
      "80/80 [==============================] - 0s 1ms/step - loss: 0.1913\n",
      "Epoch 3/100\n",
      "80/80 [==============================] - 0s 2ms/step - loss: 0.0954\n",
      "Epoch 4/100\n",
      "80/80 [==============================] - 0s 2ms/step - loss: 0.0616\n",
      "Epoch 5/100\n",
      "80/80 [==============================] - 0s 3ms/step - loss: 0.0477\n",
      "Epoch 6/100\n",
      "80/80 [==============================] - 0s 3ms/step - loss: 0.0414\n",
      "Epoch 7/100\n",
      "80/80 [==============================] - 0s 3ms/step - loss: 0.0382\n",
      "Epoch 8/100\n",
      "80/80 [==============================] - 0s 3ms/step - loss: 0.0367\n",
      "Epoch 9/100\n",
      "80/80 [==============================] - 0s 2ms/step - loss: 0.0359\n",
      "Epoch 10/100\n",
      "80/80 [==============================] - 0s 3ms/step - loss: 0.0355\n",
      "Epoch 11/100\n",
      "80/80 [==============================] - 0s 3ms/step - loss: 0.0352\n",
      "Epoch 12/100\n",
      "80/80 [==============================] - 0s 3ms/step - loss: 0.0351\n",
      "Epoch 13/100\n",
      "80/80 [==============================] - 0s 2ms/step - loss: 0.0351\n",
      "Epoch 14/100\n",
      "80/80 [==============================] - 0s 2ms/step - loss: 0.0350\n",
      "Epoch 15/100\n",
      "80/80 [==============================] - 0s 2ms/step - loss: 0.0350\n",
      "Epoch 16/100\n",
      "80/80 [==============================] - 0s 3ms/step - loss: 0.0350\n",
      "Epoch 17/100\n",
      "80/80 [==============================] - 0s 3ms/step - loss: 0.0350\n",
      "Epoch 18/100\n",
      "80/80 [==============================] - 0s 2ms/step - loss: 0.0350\n",
      "Epoch 19/100\n",
      "80/80 [==============================] - 0s 3ms/step - loss: 0.0350\n",
      "Epoch 20/100\n",
      "80/80 [==============================] - 0s 3ms/step - loss: 0.0350\n",
      "Epoch 21/100\n",
      "80/80 [==============================] - 0s 3ms/step - loss: 0.0350\n",
      "Epoch 22/100\n",
      "80/80 [==============================] - 0s 3ms/step - loss: 0.0350\n",
      "Epoch 23/100\n",
      "80/80 [==============================] - 0s 3ms/step - loss: 0.0350\n",
      "Epoch 24/100\n",
      "80/80 [==============================] - 0s 2ms/step - loss: 0.0350\n",
      "Epoch 25/100\n",
      "80/80 [==============================] - 0s 1ms/step - loss: 0.0350\n",
      "Epoch 26/100\n",
      "80/80 [==============================] - 0s 3ms/step - loss: 0.0350A: 0s - loss: 0.0\n",
      "Epoch 27/100\n",
      "80/80 [==============================] - 0s 3ms/step - loss: 0.0350\n",
      "Epoch 28/100\n",
      "80/80 [==============================] - 0s 3ms/step - loss: 0.0350\n",
      "Epoch 29/100\n",
      "80/80 [==============================] - 0s 3ms/step - loss: 0.0350\n",
      "Epoch 30/100\n",
      "80/80 [==============================] - ETA: 0s - loss: 0.035 - 0s 3ms/step - loss: 0.0350\n",
      "Epoch 31/100\n",
      "80/80 [==============================] - 0s 1ms/step - loss: 0.0350\n",
      "Epoch 32/100\n",
      "80/80 [==============================] - 0s 2ms/step - loss: 0.0350\n",
      "Epoch 33/100\n",
      "80/80 [==============================] - 0s 3ms/step - loss: 0.0350\n",
      "Epoch 34/100\n",
      "80/80 [==============================] - 0s 3ms/step - loss: 0.0350\n",
      "Epoch 35/100\n",
      "80/80 [==============================] - 0s 3ms/step - loss: 0.0350\n",
      "Epoch 36/100\n",
      "80/80 [==============================] - 0s 2ms/step - loss: 0.0350\n",
      "Epoch 37/100\n",
      "80/80 [==============================] - 0s 2ms/step - loss: 0.0350\n",
      "Epoch 38/100\n",
      "80/80 [==============================] - 0s 2ms/step - loss: 0.0350\n",
      "Epoch 39/100\n",
      "80/80 [==============================] - 0s 2ms/step - loss: 0.0350\n",
      "Epoch 40/100\n",
      "80/80 [==============================] - 0s 3ms/step - loss: 0.0350\n",
      "Epoch 41/100\n",
      "80/80 [==============================] - 0s 3ms/step - loss: 0.0350\n",
      "Epoch 42/100\n",
      "80/80 [==============================] - 0s 3ms/step - loss: 0.0350\n",
      "Epoch 43/100\n",
      "80/80 [==============================] - 0s 3ms/step - loss: 0.0350\n",
      "Epoch 44/100\n",
      "80/80 [==============================] - 0s 3ms/step - loss: 0.0350\n",
      "Epoch 45/100\n",
      "80/80 [==============================] - 0s 1ms/step - loss: 0.0350\n",
      "Epoch 46/100\n",
      "80/80 [==============================] - 0s 2ms/step - loss: 0.0350\n",
      "Epoch 47/100\n",
      "80/80 [==============================] - 0s 3ms/step - loss: 0.0350\n",
      "Epoch 48/100\n",
      "80/80 [==============================] - 0s 3ms/step - loss: 0.0350\n",
      "Epoch 49/100\n",
      "80/80 [==============================] - 0s 3ms/step - loss: 0.0350\n",
      "Epoch 50/100\n",
      "80/80 [==============================] - 0s 3ms/step - loss: 0.0350\n",
      "Epoch 51/100\n",
      "80/80 [==============================] - 0s 3ms/step - loss: 0.0350\n",
      "Epoch 52/100\n",
      "80/80 [==============================] - 0s 3ms/step - loss: 0.0350\n",
      "Epoch 53/100\n",
      "80/80 [==============================] - 0s 2ms/step - loss: 0.0350\n",
      "Epoch 54/100\n",
      "80/80 [==============================] - 0s 3ms/step - loss: 0.0350\n",
      "Epoch 55/100\n",
      "80/80 [==============================] - 0s 2ms/step - loss: 0.0350\n",
      "Epoch 56/100\n",
      "80/80 [==============================] - 0s 2ms/step - loss: 0.0350\n",
      "Epoch 57/100\n",
      "80/80 [==============================] - 0s 2ms/step - loss: 0.0350\n",
      "Epoch 58/100\n",
      "80/80 [==============================] - 0s 3ms/step - loss: 0.0350\n",
      "Epoch 59/100\n",
      "80/80 [==============================] - 0s 3ms/step - loss: 0.0350\n",
      "Epoch 60/100\n",
      "80/80 [==============================] - 0s 3ms/step - loss: 0.0350\n",
      "Epoch 61/100\n",
      "80/80 [==============================] - 0s 2ms/step - loss: 0.0350\n",
      "Epoch 62/100\n",
      "80/80 [==============================] - 0s 2ms/step - loss: 0.0350\n",
      "Epoch 63/100\n",
      "80/80 [==============================] - 0s 2ms/step - loss: 0.0350\n",
      "Epoch 64/100\n",
      "80/80 [==============================] - 0s 3ms/step - loss: 0.0350\n",
      "Epoch 65/100\n",
      "80/80 [==============================] - 0s 3ms/step - loss: 0.0350\n",
      "Epoch 66/100\n",
      "80/80 [==============================] - 0s 3ms/step - loss: 0.0350\n",
      "Epoch 67/100\n",
      "80/80 [==============================] - 0s 2ms/step - loss: 0.0350\n",
      "Epoch 68/100\n",
      "80/80 [==============================] - 0s 2ms/step - loss: 0.0350\n",
      "Epoch 69/100\n",
      "80/80 [==============================] - 0s 3ms/step - loss: 0.0350\n",
      "Epoch 70/100\n",
      "80/80 [==============================] - 0s 2ms/step - loss: 0.0350\n",
      "Epoch 71/100\n",
      "80/80 [==============================] - 0s 3ms/step - loss: 0.0350\n",
      "Epoch 72/100\n",
      "80/80 [==============================] - 0s 2ms/step - loss: 0.0350\n",
      "Epoch 73/100\n",
      "80/80 [==============================] - 0s 2ms/step - loss: 0.0350\n",
      "Epoch 74/100\n",
      "80/80 [==============================] - 0s 2ms/step - loss: 0.0350\n",
      "Epoch 75/100\n",
      "80/80 [==============================] - 0s 2ms/step - loss: 0.0350\n",
      "Epoch 76/100\n",
      "80/80 [==============================] - 0s 2ms/step - loss: 0.0350\n",
      "Epoch 77/100\n",
      "80/80 [==============================] - 0s 2ms/step - loss: 0.0350\n",
      "Epoch 78/100\n",
      "80/80 [==============================] - 0s 2ms/step - loss: 0.0350\n",
      "Epoch 79/100\n",
      "80/80 [==============================] - 0s 2ms/step - loss: 0.0350\n",
      "Epoch 80/100\n",
      "80/80 [==============================] - 0s 1ms/step - loss: 0.0350\n",
      "Epoch 81/100\n",
      "80/80 [==============================] - 0s 2ms/step - loss: 0.0350\n",
      "Epoch 82/100\n",
      "80/80 [==============================] - 0s 2ms/step - loss: 0.0350\n",
      "Epoch 83/100\n",
      "80/80 [==============================] - 0s 2ms/step - loss: 0.0350\n",
      "Epoch 84/100\n",
      "80/80 [==============================] - 0s 2ms/step - loss: 0.0350\n",
      "Epoch 85/100\n",
      "80/80 [==============================] - 0s 2ms/step - loss: 0.0350\n",
      "Epoch 86/100\n",
      "80/80 [==============================] - 0s 2ms/step - loss: 0.0350\n",
      "Epoch 87/100\n",
      "80/80 [==============================] - 0s 2ms/step - loss: 0.0350\n",
      "Epoch 88/100\n",
      "80/80 [==============================] - 0s 2ms/step - loss: 0.0350\n",
      "Epoch 89/100\n",
      "80/80 [==============================] - 0s 2ms/step - loss: 0.0350\n",
      "Epoch 90/100\n",
      "80/80 [==============================] - 0s 2ms/step - loss: 0.0350\n",
      "Epoch 91/100\n",
      "80/80 [==============================] - 0s 2ms/step - loss: 0.0350\n",
      "Epoch 92/100\n",
      "80/80 [==============================] - 0s 2ms/step - loss: 0.0350A: 0s - loss: 0.03\n",
      "Epoch 93/100\n",
      "80/80 [==============================] - 0s 2ms/step - loss: 0.0350A: 0s - loss: 0.03\n",
      "Epoch 94/100\n",
      "80/80 [==============================] - 0s 2ms/step - loss: 0.0350\n",
      "Epoch 95/100\n",
      "80/80 [==============================] - 0s 2ms/step - loss: 0.0350\n",
      "Epoch 96/100\n",
      "80/80 [==============================] - 0s 2ms/step - loss: 0.0350\n",
      "Epoch 97/100\n",
      "80/80 [==============================] - 0s 2ms/step - loss: 0.0350\n",
      "Epoch 98/100\n",
      "80/80 [==============================] - 0s 2ms/step - loss: 0.0350\n",
      "Epoch 99/100\n",
      "80/80 [==============================] - 0s 2ms/step - loss: 0.0350\n",
      "Epoch 100/100\n",
      "80/80 [==============================] - 0s 2ms/step - loss: 0.0350\n"
     ]
    },
    {
     "data": {
      "text/plain": [
       "<keras.callbacks.History at 0x1f88eb93490>"
      ]
     },
     "execution_count": 3,
     "metadata": {},
     "output_type": "execute_result"
    }
   ],
   "source": [
    "# Regression\n",
    "\n",
    "#structure of the model\n",
    "model = kb.Sequential([\n",
    "    kb.layers.Dense(1, input_shape =[4]), #input\n",
    "])\n",
    "\n",
    "#how to train the model\n",
    "model.compile(loss = \"mean_squared_error\",\n",
    "              optimizer = kb.optimizers.SGD())\n",
    "\n",
    "#fit the model (same as SKlearn)\n",
    "model.fit(X,y, epochs = 100)"
   ]
  },
  {
   "cell_type": "code",
   "execution_count": 4,
   "metadata": {
    "collapsed": true,
    "jupyter": {
     "outputs_hidden": true
    }
   },
   "outputs": [],
   "source": [
    "# build a linear regression model using LinearRegression and fitting on X and y (no need for model validation here)\n",
    "lr = LinearRegression()\n",
    "\n",
    "\n",
    "\n",
    "\n",
    "\n",
    "### YOUR CODE HERE ###"
   ]
  },
  {
   "cell_type": "code",
   "execution_count": 5,
   "metadata": {},
   "outputs": [
    {
     "data": {
      "text/plain": [
       "[array([[ 0.10966623],\n",
       "        [ 0.09720501],\n",
       "        [-0.03459834],\n",
       "        [ 0.03436451]], dtype=float32),\n",
       " array([0.46901187], dtype=float32)]"
      ]
     },
     "execution_count": 5,
     "metadata": {},
     "output_type": "execute_result"
    }
   ],
   "source": [
    "# get weights from Neural Network\n",
    "model.get_weights()\n"
   ]
  },
  {
   "cell_type": "code",
   "execution_count": 6,
   "metadata": {},
   "outputs": [],
   "source": [
    "# get the coef_ and intercept_ from your linear regression model\n",
    "\n",
    "### YOUR CODE HERE ###\n"
   ]
  },
  {
   "cell_type": "markdown",
   "metadata": {},
   "source": [
    "### *Question*\n",
    "What happens to the weights from our neural net as you **increase** the number of epochs (compare to the coefs from the linear regression model)?\n",
    "\n",
    "<img src=\"https://drive.google.com/uc?export=view&id=1ghyQPx1N8dmU3MV4TrANvqNhGwnLni72\" width = 200px />"
   ]
  },
  {
   "cell_type": "markdown",
   "metadata": {},
   "source": [
    "# 2. Parameter Bloat\n",
    "\n",
    "Remember that a densely connected layer (`Dense()` in keras) is connected to EVERY node in the layer before and after it. The parameters can add up QUICKLY. Looking at the image of a densely connected, deep neural network below, try to calculate how many parameters (weights + bias) need to be estimates for that neural network (it's okay if you're off by a litte).\n",
    "\n",
    "<img src=\"https://drive.google.com/uc?export=view&id=19mh5qaqStcZzxir6fSWHkaiEtwMiVIVT\" width = 600px />\n",
    "\n",
    "### *Question*\n",
    "\n",
    "What do you think can happen when you have a ton of parameters and only a little data?\n",
    "<img src=\"https://drive.google.com/uc?export=view&id=1ghyQPx1N8dmU3MV4TrANvqNhGwnLni72\" width = 200px />\n",
    "\n",
    "\n",
    "# 3. Building a Deep Neural Net\n",
    "\n",
    "Run the following model on the dataset `nn`. You can use `nn_test` as the test set."
   ]
  },
  {
   "cell_type": "code",
   "execution_count": 7,
   "metadata": {},
   "outputs": [
    {
     "name": "stdout",
     "output_type": "stream",
     "text": [
      "(100, 10) (50, 10)\n"
     ]
    }
   ],
   "source": [
    "nn = pd.read_csv(\"https://raw.githubusercontent.com/cmparlettpelleriti/CPSC392ParlettPelleriti/master/Data/NN.csv\")\n",
    "nn_test = pd.read_csv(\"https://raw.githubusercontent.com/cmparlettpelleriti/CPSC392ParlettPelleriti/master/Data/NN_test.csv\")\n",
    "\n",
    "X = nn[[\"V1\", \"V2\", \"V3\", \"V4\", \"V5\", \"V6\", \"V7\", \"V8\", \"V9\"]]\n",
    "y = nn[[\"V10\"]]\n",
    "\n",
    "X_test = nn_test[[\"V1\", \"V2\", \"V3\", \"V4\", \"V5\", \"V6\", \"V7\", \"V8\", \"V9\"]]\n",
    "y_test = nn_test[[\"V10\"]]\n",
    "\n",
    "\n",
    "print(nn.shape, nn_test.shape)"
   ]
  },
  {
   "cell_type": "markdown",
   "metadata": {},
   "source": [
    "Build a Model with layers with 9,7,5,3,2,1 nodes respectively. Fill in the appropriate numbers to relace the `???`s. I've done the 9 and 7 for you."
   ]
  },
  {
   "cell_type": "code",
   "execution_count": 8,
   "metadata": {},
   "outputs": [
    {
     "ename": "SyntaxError",
     "evalue": "invalid syntax (<ipython-input-8-423a969dc943>, line 5)",
     "output_type": "error",
     "traceback": [
      "\u001b[1;36m  File \u001b[1;32m\"<ipython-input-8-423a969dc943>\"\u001b[1;36m, line \u001b[1;32m5\u001b[0m\n\u001b[1;33m    kb.layers.Dense(???),\u001b[0m\n\u001b[1;37m                    ^\u001b[0m\n\u001b[1;31mSyntaxError\u001b[0m\u001b[1;31m:\u001b[0m invalid syntax\n"
     ]
    }
   ],
   "source": [
    "## DEEP MODEL\n",
    "#structure of the model\n",
    "model2 = kb.Sequential([\n",
    "    kb.layers.Dense(7, input_shape =[9]), #input\n",
    "    kb.layers.Dense(???),\n",
    "    kb.layers.Dense(???),\n",
    "    kb.layers.Dense(???),\n",
    "    kb.layers.Dense(???) #output\n",
    "])\n",
    "#how to train the model\n",
    "model2.compile(loss = \"mean_squared_error\",\n",
    "              optimizer = kb.optimizers.SGD())\n",
    "\n",
    "#fit the model (same as SKlearn)\n",
    "model2.fit(X,y, epochs = 100)"
   ]
  },
  {
   "cell_type": "markdown",
   "metadata": {},
   "source": [
    "Now use `nn` and `nn_test`, and calculate the train and test MSEs."
   ]
  },
  {
   "cell_type": "code",
   "execution_count": null,
   "metadata": {},
   "outputs": [],
   "source": [
    "### YOUR CODE HERE ###"
   ]
  },
  {
   "cell_type": "markdown",
   "metadata": {},
   "source": [
    "# Other Random NN Topics That are Cool\n",
    "* Deep Neural Networks (NN's that have 2+ hidden layers)\n",
    "* Dropout (a way to regularize NNs)\n",
    "* Double Descent (You won't believe what this means for bias/variance tradedoff!!!)\n",
    "* Autoencoders (NN's that do non-linear PCA)\n",
    "* Generative Adversarial Networks (GANs; builds a model that can generate fake data, like faces, or paintings)\n",
    "* Recurrent Neural Networks (used for time series like sentences, music, stocks...even[harry potter](https://www.digitaltrends.com/cool-tech/harry-potter-ai-story/))\n",
    "* StyleGAN\n",
    "* Convolutional Neural Networks (often used for images, or other spatial data)\n",
    "* Shap values (a way to estimate the effect of different predictors in the NN)\n",
    "\n",
    "Check out [this video](https://www.youtube.com/watch?v=JBlm4wnjNMY) I wrote for Crash Course about Neural Nets."
   ]
  }
 ],
 "metadata": {
  "hide_input": false,
  "kernelspec": {
   "display_name": "Python 3",
   "language": "python",
   "name": "python3"
  },
  "language_info": {
   "codemirror_mode": {
    "name": "ipython",
    "version": 3
   },
   "file_extension": ".py",
   "mimetype": "text/x-python",
   "name": "python",
   "nbconvert_exporter": "python",
   "pygments_lexer": "ipython3",
   "version": "3.8.3"
  },
  "toc": {
   "base_numbering": 1,
   "nav_menu": {},
   "number_sections": true,
   "sideBar": true,
   "skip_h1_title": false,
   "title_cell": "Table of Contents",
   "title_sidebar": "Contents",
   "toc_cell": false,
   "toc_position": {},
   "toc_section_display": true,
   "toc_window_display": false
  }
 },
 "nbformat": 4,
 "nbformat_minor": 4
}
