{
 "cells": [
  {
   "cell_type": "code",
   "execution_count": 1,
   "metadata": {},
   "outputs": [],
   "source": [
    "import warnings\n",
    "warnings.filterwarnings('ignore')\n",
    "\n",
    "\n",
    "import pandas as pd\n",
    "import numpy as np\n",
    "from plotnine import *"
   ]
  },
  {
   "cell_type": "markdown",
   "metadata": {},
   "source": [
    "# 0. Together\n",
    "\n",
    "Interpreting coefficients:\n",
    "\n",
    "Interpret the following coefficients.\n"
   ]
  },
  {
   "cell_type": "code",
   "execution_count": 2,
   "metadata": {},
   "outputs": [],
   "source": [
    "from sklearn.linear_model import LogisticRegression\n",
    "from sklearn.preprocessing import StandardScaler #Z-score variables\n",
    "from sklearn.metrics import accuracy_score, confusion_matrix\n",
    "from sklearn.metrics import r2_score, mean_squared_error\n",
    "\n",
    "from sklearn.model_selection import train_test_split # simple TT split cv\n",
    "from sklearn.model_selection import KFold # k-fold cv\n",
    "from sklearn.model_selection import LeaveOneOut #LOO cv\n",
    "from sklearn.model_selection import cross_val_score # cross validation metrics\n",
    "from sklearn.model_selection import cross_val_predict # cross validation metrics"
   ]
  },
  {
   "cell_type": "code",
   "execution_count": 3,
   "metadata": {},
   "outputs": [
    {
     "data": {
      "text/html": [
       "<div>\n",
       "<style scoped>\n",
       "    .dataframe tbody tr th:only-of-type {\n",
       "        vertical-align: middle;\n",
       "    }\n",
       "\n",
       "    .dataframe tbody tr th {\n",
       "        vertical-align: top;\n",
       "    }\n",
       "\n",
       "    .dataframe thead th {\n",
       "        text-align: right;\n",
       "    }\n",
       "</style>\n",
       "<table border=\"1\" class=\"dataframe\">\n",
       "  <thead>\n",
       "    <tr style=\"text-align: right;\">\n",
       "      <th></th>\n",
       "      <th>Unnamed: 0</th>\n",
       "      <th>artist_name</th>\n",
       "      <th>artist_id</th>\n",
       "      <th>album_id</th>\n",
       "      <th>album_type</th>\n",
       "      <th>album_release_date</th>\n",
       "      <th>album_release_year</th>\n",
       "      <th>album_release_date_precision</th>\n",
       "      <th>danceability</th>\n",
       "      <th>energy</th>\n",
       "      <th>...</th>\n",
       "      <th>track_name</th>\n",
       "      <th>track_preview_url</th>\n",
       "      <th>track_number</th>\n",
       "      <th>type</th>\n",
       "      <th>track_uri</th>\n",
       "      <th>external_urls.spotify</th>\n",
       "      <th>album_name</th>\n",
       "      <th>key_name</th>\n",
       "      <th>mode_name</th>\n",
       "      <th>key_mode</th>\n",
       "    </tr>\n",
       "  </thead>\n",
       "  <tbody>\n",
       "    <tr>\n",
       "      <th>0</th>\n",
       "      <td>1</td>\n",
       "      <td>Lizzo</td>\n",
       "      <td>56oDRnqbIiwx4mymNEv7dS</td>\n",
       "      <td>6dFFcYQ8VhifgdKgYY5LYL</td>\n",
       "      <td>album</td>\n",
       "      <td>2019-04-19</td>\n",
       "      <td>2019</td>\n",
       "      <td>day</td>\n",
       "      <td>0.566</td>\n",
       "      <td>0.660</td>\n",
       "      <td>...</td>\n",
       "      <td>Cuz I Love You</td>\n",
       "      <td>https://p.scdn.co/mp3-preview/04472d81bc5a9669...</td>\n",
       "      <td>1</td>\n",
       "      <td>track</td>\n",
       "      <td>spotify:track:6YdQgWSpsxhVeX6Xmv3IFJ</td>\n",
       "      <td>https://open.spotify.com/track/6YdQgWSpsxhVeX6...</td>\n",
       "      <td>Cuz I Love You</td>\n",
       "      <td>C#</td>\n",
       "      <td>major</td>\n",
       "      <td>C# major</td>\n",
       "    </tr>\n",
       "    <tr>\n",
       "      <th>1</th>\n",
       "      <td>2</td>\n",
       "      <td>Lizzo</td>\n",
       "      <td>56oDRnqbIiwx4mymNEv7dS</td>\n",
       "      <td>6dFFcYQ8VhifgdKgYY5LYL</td>\n",
       "      <td>album</td>\n",
       "      <td>2019-04-19</td>\n",
       "      <td>2019</td>\n",
       "      <td>day</td>\n",
       "      <td>0.694</td>\n",
       "      <td>0.807</td>\n",
       "      <td>...</td>\n",
       "      <td>Like a Girl</td>\n",
       "      <td>https://p.scdn.co/mp3-preview/4f917112d7f75e2c...</td>\n",
       "      <td>2</td>\n",
       "      <td>track</td>\n",
       "      <td>spotify:track:5I7sGubUsKo4mVJpBoSVUr</td>\n",
       "      <td>https://open.spotify.com/track/5I7sGubUsKo4mVJ...</td>\n",
       "      <td>Cuz I Love You</td>\n",
       "      <td>D</td>\n",
       "      <td>major</td>\n",
       "      <td>D major</td>\n",
       "    </tr>\n",
       "    <tr>\n",
       "      <th>2</th>\n",
       "      <td>3</td>\n",
       "      <td>Lizzo</td>\n",
       "      <td>56oDRnqbIiwx4mymNEv7dS</td>\n",
       "      <td>6dFFcYQ8VhifgdKgYY5LYL</td>\n",
       "      <td>album</td>\n",
       "      <td>2019-04-19</td>\n",
       "      <td>2019</td>\n",
       "      <td>day</td>\n",
       "      <td>0.767</td>\n",
       "      <td>0.889</td>\n",
       "      <td>...</td>\n",
       "      <td>Juice</td>\n",
       "      <td>https://p.scdn.co/mp3-preview/7ca1598cec36c491...</td>\n",
       "      <td>3</td>\n",
       "      <td>track</td>\n",
       "      <td>spotify:track:0k664IuFwVP557Gnx7RhIl</td>\n",
       "      <td>https://open.spotify.com/track/0k664IuFwVP557G...</td>\n",
       "      <td>Cuz I Love You</td>\n",
       "      <td>G</td>\n",
       "      <td>major</td>\n",
       "      <td>G major</td>\n",
       "    </tr>\n",
       "    <tr>\n",
       "      <th>3</th>\n",
       "      <td>4</td>\n",
       "      <td>Lizzo</td>\n",
       "      <td>56oDRnqbIiwx4mymNEv7dS</td>\n",
       "      <td>6dFFcYQ8VhifgdKgYY5LYL</td>\n",
       "      <td>album</td>\n",
       "      <td>2019-04-19</td>\n",
       "      <td>2019</td>\n",
       "      <td>day</td>\n",
       "      <td>0.693</td>\n",
       "      <td>0.849</td>\n",
       "      <td>...</td>\n",
       "      <td>Soulmate</td>\n",
       "      <td>https://p.scdn.co/mp3-preview/467bc6a734bfb66e...</td>\n",
       "      <td>4</td>\n",
       "      <td>track</td>\n",
       "      <td>spotify:track:6h2wpo2pshM8QnAvRySEO0</td>\n",
       "      <td>https://open.spotify.com/track/6h2wpo2pshM8QnA...</td>\n",
       "      <td>Cuz I Love You</td>\n",
       "      <td>G</td>\n",
       "      <td>major</td>\n",
       "      <td>G major</td>\n",
       "    </tr>\n",
       "    <tr>\n",
       "      <th>4</th>\n",
       "      <td>5</td>\n",
       "      <td>Lizzo</td>\n",
       "      <td>56oDRnqbIiwx4mymNEv7dS</td>\n",
       "      <td>6dFFcYQ8VhifgdKgYY5LYL</td>\n",
       "      <td>album</td>\n",
       "      <td>2019-04-19</td>\n",
       "      <td>2019</td>\n",
       "      <td>day</td>\n",
       "      <td>0.674</td>\n",
       "      <td>0.542</td>\n",
       "      <td>...</td>\n",
       "      <td>Jerome</td>\n",
       "      <td>https://p.scdn.co/mp3-preview/8f662de51ad3f613...</td>\n",
       "      <td>5</td>\n",
       "      <td>track</td>\n",
       "      <td>spotify:track:3kxsEF30mM0TZWfkOv4XsS</td>\n",
       "      <td>https://open.spotify.com/track/3kxsEF30mM0TZWf...</td>\n",
       "      <td>Cuz I Love You</td>\n",
       "      <td>G#</td>\n",
       "      <td>major</td>\n",
       "      <td>G# major</td>\n",
       "    </tr>\n",
       "  </tbody>\n",
       "</table>\n",
       "<p>5 rows × 37 columns</p>\n",
       "</div>"
      ],
      "text/plain": [
       "   Unnamed: 0 artist_name               artist_id                album_id  \\\n",
       "0           1       Lizzo  56oDRnqbIiwx4mymNEv7dS  6dFFcYQ8VhifgdKgYY5LYL   \n",
       "1           2       Lizzo  56oDRnqbIiwx4mymNEv7dS  6dFFcYQ8VhifgdKgYY5LYL   \n",
       "2           3       Lizzo  56oDRnqbIiwx4mymNEv7dS  6dFFcYQ8VhifgdKgYY5LYL   \n",
       "3           4       Lizzo  56oDRnqbIiwx4mymNEv7dS  6dFFcYQ8VhifgdKgYY5LYL   \n",
       "4           5       Lizzo  56oDRnqbIiwx4mymNEv7dS  6dFFcYQ8VhifgdKgYY5LYL   \n",
       "\n",
       "  album_type album_release_date  album_release_year  \\\n",
       "0      album         2019-04-19                2019   \n",
       "1      album         2019-04-19                2019   \n",
       "2      album         2019-04-19                2019   \n",
       "3      album         2019-04-19                2019   \n",
       "4      album         2019-04-19                2019   \n",
       "\n",
       "  album_release_date_precision  danceability  energy  ...      track_name  \\\n",
       "0                          day         0.566   0.660  ...  Cuz I Love You   \n",
       "1                          day         0.694   0.807  ...     Like a Girl   \n",
       "2                          day         0.767   0.889  ...           Juice   \n",
       "3                          day         0.693   0.849  ...        Soulmate   \n",
       "4                          day         0.674   0.542  ...          Jerome   \n",
       "\n",
       "                                   track_preview_url  track_number   type  \\\n",
       "0  https://p.scdn.co/mp3-preview/04472d81bc5a9669...             1  track   \n",
       "1  https://p.scdn.co/mp3-preview/4f917112d7f75e2c...             2  track   \n",
       "2  https://p.scdn.co/mp3-preview/7ca1598cec36c491...             3  track   \n",
       "3  https://p.scdn.co/mp3-preview/467bc6a734bfb66e...             4  track   \n",
       "4  https://p.scdn.co/mp3-preview/8f662de51ad3f613...             5  track   \n",
       "\n",
       "                              track_uri  \\\n",
       "0  spotify:track:6YdQgWSpsxhVeX6Xmv3IFJ   \n",
       "1  spotify:track:5I7sGubUsKo4mVJpBoSVUr   \n",
       "2  spotify:track:0k664IuFwVP557Gnx7RhIl   \n",
       "3  spotify:track:6h2wpo2pshM8QnAvRySEO0   \n",
       "4  spotify:track:3kxsEF30mM0TZWfkOv4XsS   \n",
       "\n",
       "                               external_urls.spotify      album_name  \\\n",
       "0  https://open.spotify.com/track/6YdQgWSpsxhVeX6...  Cuz I Love You   \n",
       "1  https://open.spotify.com/track/5I7sGubUsKo4mVJ...  Cuz I Love You   \n",
       "2  https://open.spotify.com/track/0k664IuFwVP557G...  Cuz I Love You   \n",
       "3  https://open.spotify.com/track/6h2wpo2pshM8QnA...  Cuz I Love You   \n",
       "4  https://open.spotify.com/track/3kxsEF30mM0TZWf...  Cuz I Love You   \n",
       "\n",
       "   key_name  mode_name  key_mode  \n",
       "0        C#      major  C# major  \n",
       "1         D      major   D major  \n",
       "2         G      major   G major  \n",
       "3         G      major   G major  \n",
       "4        G#      major  G# major  \n",
       "\n",
       "[5 rows x 37 columns]"
      ]
     },
     "execution_count": 3,
     "metadata": {},
     "output_type": "execute_result"
    }
   ],
   "source": [
    "d = pd.read_csv(\"https://raw.githubusercontent.com/cmparlettpelleriti/CPSC392ParlettPelleriti/master/Data/Lizzo_data.csv\")\n",
    "\n",
    "d.head()"
   ]
  },
  {
   "cell_type": "code",
   "execution_count": 4,
   "metadata": {},
   "outputs": [
    {
     "data": {
      "text/html": [
       "<div>\n",
       "<style scoped>\n",
       "    .dataframe tbody tr th:only-of-type {\n",
       "        vertical-align: middle;\n",
       "    }\n",
       "\n",
       "    .dataframe tbody tr th {\n",
       "        vertical-align: top;\n",
       "    }\n",
       "\n",
       "    .dataframe thead th {\n",
       "        text-align: right;\n",
       "    }\n",
       "</style>\n",
       "<table border=\"1\" class=\"dataframe\">\n",
       "  <thead>\n",
       "    <tr style=\"text-align: right;\">\n",
       "      <th></th>\n",
       "      <th>coefNames</th>\n",
       "      <th>logOdds</th>\n",
       "      <th>Odds</th>\n",
       "    </tr>\n",
       "  </thead>\n",
       "  <tbody>\n",
       "    <tr>\n",
       "      <th>0</th>\n",
       "      <td>danceability</td>\n",
       "      <td>-0.154719</td>\n",
       "      <td>0.856655</td>\n",
       "    </tr>\n",
       "    <tr>\n",
       "      <th>1</th>\n",
       "      <td>energy</td>\n",
       "      <td>0.121182</td>\n",
       "      <td>1.128830</td>\n",
       "    </tr>\n",
       "    <tr>\n",
       "      <th>2</th>\n",
       "      <td>instrumentalness</td>\n",
       "      <td>0.032787</td>\n",
       "      <td>1.033331</td>\n",
       "    </tr>\n",
       "  </tbody>\n",
       "</table>\n",
       "</div>"
      ],
      "text/plain": [
       "          coefNames   logOdds      Odds\n",
       "0      danceability -0.154719  0.856655\n",
       "1            energy  0.121182  1.128830\n",
       "2  instrumentalness  0.032787  1.033331"
      ]
     },
     "execution_count": 4,
     "metadata": {},
     "output_type": "execute_result"
    }
   ],
   "source": [
    "predictors = [\"danceability\", \"energy\", \"instrumentalness\"]\n",
    "\n",
    "#not splitting data into train/test right now because we are not looking at out-of-sample performance\n",
    "X = d[predictors]\n",
    "y = d[\"mode\"]\n",
    "\n",
    "lr = LogisticRegression()\n",
    "\n",
    "z = StandardScaler()\n",
    "X = z.fit_transform(X)\n",
    "\n",
    "lr.fit(X,y)\n",
    "\n",
    "coef = pd.DataFrame({\"coefNames\": predictors, \"logOdds\": lr.coef_[0],\n",
    "                    \"Odds\": np.exp(lr.coef_[0])})\n",
    "coef.head()\n",
    "\n",
    "#why don't I have probabilities here?"
   ]
  },
  {
   "cell_type": "markdown",
   "metadata": {},
   "source": [
    "# 1. The Math of Log Odds, Odds, and Probabilities\n",
    "\n",
    "In the lecture, you saw a beautiful (if I do say so myself...) graph demonstrating the way that Log Odds, Odds, and Probabilities change as a result of a 1-unit change in a predictor variable.\n",
    "\n",
    "Now YOU'RE going to make your own version to help you gain an intuitive sense for the math of log odds, odds, and probabilities. \n",
    "\n",
    "We're going to write a function that simulates a super simple logistic relationship: 1 predictor (X) and 1 binary outcome (y). \n",
    "\n",
    "- Add code to calculate the odds and probabilities for each data point based on the log odds and predictor values\n",
    "\n",
    "(if it helps, think of this as predicting whether or not someone is registered to vote based on their age. **OH SPEAKING OF**: are you [registered to vote](https://www.usa.gov/register-to-vote)?)\n",
    "\n"
   ]
  },
  {
   "cell_type": "code",
   "execution_count": 7,
   "metadata": {},
   "outputs": [],
   "source": [
    "def LogisticDataSimulator(intercept, slope, limits = 5):\n",
    "    \n",
    "    #generate 1000 evenly spaced values between -limits and limits\n",
    "    predictor = np.linspace(-limits, limits, 1000)\n",
    "    \n",
    "    # log odds of being registered to vote\n",
    "    log_odds = intercept + slope*predictor\n",
    "    \n",
    "    \n",
    "    # odds of being registered to vote\n",
    "    #################################\n",
    "    odds = np.exp(log_odds)\n",
    "    \n",
    "    #################################\n",
    "    \n",
    "    # probability of being registered to vote\n",
    "    #################################\n",
    "    probabilities = odds/(1+odds)\n",
    "    \n",
    "    #################################\n",
    "    \n",
    "    # put into a dataframe\n",
    "    df = pd.DataFrame({\"x\": predictor,\n",
    "                      \"logodds\": log_odds,\n",
    "                       \"odds\": odds,\n",
    "                       \"probabilities\": probabilities})\n",
    "    \n",
    "    return(df)"
   ]
  },
  {
   "cell_type": "markdown",
   "metadata": {},
   "source": [
    "Use the dataframe that calling `LogisticDataSimulator()` with an intercept of 1 and slope of 0.5 makes, and recreate the graph of the log odds, odds, and probabilities from the [lecture](https://github.com/cmparlettpelleriti/CPSC392ParlettPelleriti/blob/master/InClass/LectureSlides/Lecture%208%20and%209%20_%20Logistic%20Regression.pdf). Make separate graphs for logodds, odds, and probabilities to make your life easier.\n",
    "\n",
    "I don't believe that plotnine supports subtitles, so no need to include those but include the colored lines, the titles/axis labels, and the dotted vertical lines! Don't be afraid to google how to do things in ggplot (hint: google `geom_line()` and `geom_vline()`)."
   ]
  },
  {
   "cell_type": "code",
   "execution_count": 8,
   "metadata": {},
   "outputs": [
    {
     "data": {
      "text/html": [
       "<div>\n",
       "<style scoped>\n",
       "    .dataframe tbody tr th:only-of-type {\n",
       "        vertical-align: middle;\n",
       "    }\n",
       "\n",
       "    .dataframe tbody tr th {\n",
       "        vertical-align: top;\n",
       "    }\n",
       "\n",
       "    .dataframe thead th {\n",
       "        text-align: right;\n",
       "    }\n",
       "</style>\n",
       "<table border=\"1\" class=\"dataframe\">\n",
       "  <thead>\n",
       "    <tr style=\"text-align: right;\">\n",
       "      <th></th>\n",
       "      <th>x</th>\n",
       "      <th>logodds</th>\n",
       "      <th>odds</th>\n",
       "      <th>probabilities</th>\n",
       "    </tr>\n",
       "  </thead>\n",
       "  <tbody>\n",
       "    <tr>\n",
       "      <th>0</th>\n",
       "      <td>-5.00000</td>\n",
       "      <td>-1.500000</td>\n",
       "      <td>0.223130</td>\n",
       "      <td>0.182426</td>\n",
       "    </tr>\n",
       "    <tr>\n",
       "      <th>1</th>\n",
       "      <td>-4.98999</td>\n",
       "      <td>-1.494995</td>\n",
       "      <td>0.224250</td>\n",
       "      <td>0.183173</td>\n",
       "    </tr>\n",
       "    <tr>\n",
       "      <th>2</th>\n",
       "      <td>-4.97998</td>\n",
       "      <td>-1.489990</td>\n",
       "      <td>0.225375</td>\n",
       "      <td>0.183923</td>\n",
       "    </tr>\n",
       "    <tr>\n",
       "      <th>3</th>\n",
       "      <td>-4.96997</td>\n",
       "      <td>-1.484985</td>\n",
       "      <td>0.226506</td>\n",
       "      <td>0.184676</td>\n",
       "    </tr>\n",
       "    <tr>\n",
       "      <th>4</th>\n",
       "      <td>-4.95996</td>\n",
       "      <td>-1.479980</td>\n",
       "      <td>0.227642</td>\n",
       "      <td>0.185430</td>\n",
       "    </tr>\n",
       "  </tbody>\n",
       "</table>\n",
       "</div>"
      ],
      "text/plain": [
       "         x   logodds      odds  probabilities\n",
       "0 -5.00000 -1.500000  0.223130       0.182426\n",
       "1 -4.98999 -1.494995  0.224250       0.183173\n",
       "2 -4.97998 -1.489990  0.225375       0.183923\n",
       "3 -4.96997 -1.484985  0.226506       0.184676\n",
       "4 -4.95996 -1.479980  0.227642       0.185430"
      ]
     },
     "execution_count": 8,
     "metadata": {},
     "output_type": "execute_result"
    }
   ],
   "source": [
    "#################################\n",
    "### YOUR CODE HERE ###\n",
    "#################################\n",
    "DF = LogisticDataSimulator(1,0.5)\n",
    "DF.head()"
   ]
  },
  {
   "cell_type": "code",
   "execution_count": 19,
   "metadata": {},
   "outputs": [
    {
     "data": {
      "image/png": "[encoded data removed]",
      "text/plain": [
       "<Figure size 640x480 with 1 Axes>"
      ]
     },
     "metadata": {
      "needs_background": "light"
     },
     "output_type": "display_data"
    },
    {
     "data": {
      "text/plain": [
       "<ggplot: (145959547124)>"
      ]
     },
     "execution_count": 19,
     "metadata": {},
     "output_type": "execute_result"
    }
   ],
   "source": [
    "# logg_odds graph\n",
    "(ggplot(DF, aes(x= \"x\", y = \"logodds\")) + geom_line(color = \"red\") + theme_minimal() + ggtitle(\"Logg Odds Plot\")\n",
    " + labs(axis_text_x = \"X(predictor Values)\", )\n",
    ")"
   ]
  },
  {
   "cell_type": "code",
   "execution_count": 13,
   "metadata": {},
   "outputs": [
    {
     "data": {
      "image/png": "[encoded data removed]",
      "text/plain": [
       "<Figure size 640x480 with 1 Axes>"
      ]
     },
     "metadata": {
      "needs_background": "light"
     },
     "output_type": "display_data"
    },
    {
     "data": {
      "text/plain": [
       "<ggplot: (145959370891)>"
      ]
     },
     "execution_count": 13,
     "metadata": {},
     "output_type": "execute_result"
    }
   ],
   "source": [
    "# odds graph\n",
    "(ggplot(DF, aes(x= \"x\", y = \"odds\")) + geom_line(color = \"green\") + theme_minimal() + ggtitle(\"Odds Plot\")\n",
    " \n",
    ")"
   ]
  },
  {
   "cell_type": "code",
   "execution_count": 17,
   "metadata": {},
   "outputs": [
    {
     "data": {
      "image/png": "[encoded data removed]",
      "text/plain": [
       "<Figure size 640x480 with 1 Axes>"
      ]
     },
     "metadata": {
      "needs_background": "light"
     },
     "output_type": "display_data"
    },
    {
     "data": {
      "text/plain": [
       "<ggplot: (145958310286)>"
      ]
     },
     "execution_count": 17,
     "metadata": {},
     "output_type": "execute_result"
    }
   ],
   "source": [
    "# probability graph\n",
    "(ggplot(DF, aes(x= \"x\", y = \"probabilities\")) + geom_line(color = \"blue\") + theme_minimal() + ggtitle(\"Probabilities Plot\")\n",
    " \n",
    ")"
   ]
  },
  {
   "cell_type": "markdown",
   "metadata": {},
   "source": [
    "### *Question*\n",
    "\n",
    "Describe in detail how the graphs demonstrate what we learned in class: that the change in predicted probability in response to a 1 unit increase of our predictor is *not constant*?\n",
    "\n",
    "<img src=\"https://drive.google.com/uc?export=view&id=1ghyQPx1N8dmU3MV4TrANvqNhGwnLni72\" width = 200px />\n"
   ]
  },
  {
   "cell_type": "markdown",
   "metadata": {},
   "source": [
    "### YOUR ANSWER HERE "
   ]
  }
 ],
 "metadata": {
  "hide_input": false,
  "kernelspec": {
   "display_name": "Python 3",
   "language": "python",
   "name": "python3"
  },
  "language_info": {
   "codemirror_mode": {
    "name": "ipython",
    "version": 3
   },
   "file_extension": ".py",
   "mimetype": "text/x-python",
   "name": "python",
   "nbconvert_exporter": "python",
   "pygments_lexer": "ipython3",
   "version": "3.8.3"
  },
  "toc": {
   "base_numbering": 1,
   "nav_menu": {},
   "number_sections": true,
   "sideBar": true,
   "skip_h1_title": false,
   "title_cell": "Table of Contents",
   "title_sidebar": "Contents",
   "toc_cell": false,
   "toc_position": {},
   "toc_section_display": true,
   "toc_window_display": false
  }
 },
 "nbformat": 4,
 "nbformat_minor": 4
}
